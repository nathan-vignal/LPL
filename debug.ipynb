{
 "cells": [
  {
   "cell_type": "code",
   "execution_count": 1,
   "metadata": {
    "scrolled": false
   },
   "outputs": [
    {
     "name": "stdout",
     "output_type": "stream",
     "text": [
      "['lexical richness max :0.326', 'ratio filling pause max :0.039', 'ratio feedback max :0.305', 'taille moyenne Ipu non feedback max :8.699', 'familiar language max :5.677']\n",
      "[array([0.45669999, 1.        , 0.47506903, 0.96134016, 1.        ]), array([1.        , 0.58196036, 1.        , 1.        , 0.37513551])]\n",
      "['lexical richness max :0.326', 'ratio filling pause max :0.023', 'ratio feedback max :0.305', 'taille moyenne Ipu non feedback max :8.699', 'familiar language max :2.130']\n",
      "[array([1, 1, 1, 1, 1])]\n",
      "['lexical richness max :0.326', 'ratio filling pause max :0.039', 'ratio feedback max :0.305', 'taille moyenne Ipu non feedback max :8.699', 'familiar language max :5.677']\n",
      "[array([0.45669999, 1.        , 0.47506903, 0.96134016, 1.        ]), array([1.        , 0.58196036, 1.        , 1.        , 0.37513551])]\n"
     ]
    }
   ],
   "source": [
    "from source.RadarGraph import RadarGraph\n",
    "import numpy as np\n",
    "from bokeh.io import output_notebook\n",
    "import time\n",
    "output_notebook()\n",
    "radar = RadarGraph()\n",
    "text = ['lexical richness max :0.326', 'ratio filling pause max :0.039', 'ratio feedback max :0.305'\n",
    "    , 'taille moyenne Ipu non feedback max :8.699', 'familiar language max :5.677']\n",
    "\n",
    "flist = [np.array([0.45669999, 1, 0.47506903, 0.96134016, 1])\n",
    "    ,np.array([1, 0.58196036, 1, 1, 0.37513551])]\n",
    "\n",
    "radar.createRadarGraph(text, flist)\n",
    "radar.update()\n",
    "\n",
    "time.sleep(2)\n",
    "\n",
    "text = ['lexical richness max :0.326', 'ratio filling pause max :0.023', 'ratio feedback max :0.305', 'taille moyenne Ipu non feedback max :8.699', 'familiar language max :2.130']\n",
    "flist =[np.array([1, 1, 1, 1, 1])]\n",
    "radar.createRadarGraph(text, flist)\n",
    "radar.update()\n",
    "\n",
    "\n",
    "time.sleep(2)\n",
    "\n",
    "text = ['lexical richness max :0.326', 'ratio filling pause max :0.039', 'ratio feedback max :0.305', 'taille moyenne Ipu non feedback max :8.699', 'familiar language max :5.677']\n",
    "flist = [np.array([0.45669999, 1, 0.47506903, 0.96134016, 1]), np.array([1, 0.58196036, 1, 1, 0.37513551])]\n",
    "radar.createRadarGraph(text, flist)\n",
    "radar.update()\n"
   ]
  },
  {
   "cell_type": "code",
   "execution_count": null,
   "metadata": {},
   "outputs": [],
   "source": []
  }
 ],
 "metadata": {
  "kernelspec": {
   "display_name": "Python 3",
   "language": "python",
   "name": "python3"
  },
  "language_info": {
   "codemirror_mode": {
    "name": "ipython",
    "version": 3
   },
   "file_extension": ".py",
   "mimetype": "text/x-python",
   "name": "python",
   "nbconvert_exporter": "python",
   "pygments_lexer": "ipython3",
   "version": "3.7.3"
  }
 },
 "nbformat": 4,
 "nbformat_minor": 2
}
