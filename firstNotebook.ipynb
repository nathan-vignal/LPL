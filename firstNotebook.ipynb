{
 "cells": [
  {
   "cell_type": "code",
   "execution_count": 1,
   "metadata": {
    "scrolled": true
   },
   "outputs": [
    {
     "data": {
      "text/html": [
       "\n",
       "    <div class=\"bk-root\">\n",
       "        <a href=\"https://bokeh.pydata.org\" target=\"_blank\" class=\"bk-logo bk-logo-small bk-logo-notebook\"></a>\n",
       "        <span id=\"1001\">Loading BokehJS ...</span>\n",
       "    </div>"
      ]
     },
     "metadata": {},
     "output_type": "display_data"
    },
    {
     "data": {
      "application/javascript": [
       "\n",
       "(function(root) {\n",
       "  function now() {\n",
       "    return new Date();\n",
       "  }\n",
       "\n",
       "  var force = true;\n",
       "\n",
       "  if (typeof root._bokeh_onload_callbacks === \"undefined\" || force === true) {\n",
       "    root._bokeh_onload_callbacks = [];\n",
       "    root._bokeh_is_loading = undefined;\n",
       "  }\n",
       "\n",
       "  var JS_MIME_TYPE = 'application/javascript';\n",
       "  var HTML_MIME_TYPE = 'text/html';\n",
       "  var EXEC_MIME_TYPE = 'application/vnd.bokehjs_exec.v0+json';\n",
       "  var CLASS_NAME = 'output_bokeh rendered_html';\n",
       "\n",
       "  /**\n",
       "   * Render data to the DOM node\n",
       "   */\n",
       "  function render(props, node) {\n",
       "    var script = document.createElement(\"script\");\n",
       "    node.appendChild(script);\n",
       "  }\n",
       "\n",
       "  /**\n",
       "   * Handle when an output is cleared or removed\n",
       "   */\n",
       "  function handleClearOutput(event, handle) {\n",
       "    var cell = handle.cell;\n",
       "\n",
       "    var id = cell.output_area._bokeh_element_id;\n",
       "    var server_id = cell.output_area._bokeh_server_id;\n",
       "    // Clean up Bokeh references\n",
       "    if (id != null && id in Bokeh.index) {\n",
       "      Bokeh.index[id].model.document.clear();\n",
       "      delete Bokeh.index[id];\n",
       "    }\n",
       "\n",
       "    if (server_id !== undefined) {\n",
       "      // Clean up Bokeh references\n",
       "      var cmd = \"from bokeh.io.state import curstate; print(curstate().uuid_to_server['\" + server_id + \"'].get_sessions()[0].document.roots[0]._id)\";\n",
       "      cell.notebook.kernel.execute(cmd, {\n",
       "        iopub: {\n",
       "          output: function(msg) {\n",
       "            var id = msg.content.text.trim();\n",
       "            if (id in Bokeh.index) {\n",
       "              Bokeh.index[id].model.document.clear();\n",
       "              delete Bokeh.index[id];\n",
       "            }\n",
       "          }\n",
       "        }\n",
       "      });\n",
       "      // Destroy server and session\n",
       "      var cmd = \"import bokeh.io.notebook as ion; ion.destroy_server('\" + server_id + \"')\";\n",
       "      cell.notebook.kernel.execute(cmd);\n",
       "    }\n",
       "  }\n",
       "\n",
       "  /**\n",
       "   * Handle when a new output is added\n",
       "   */\n",
       "  function handleAddOutput(event, handle) {\n",
       "    var output_area = handle.output_area;\n",
       "    var output = handle.output;\n",
       "\n",
       "    // limit handleAddOutput to display_data with EXEC_MIME_TYPE content only\n",
       "    if ((output.output_type != \"display_data\") || (!output.data.hasOwnProperty(EXEC_MIME_TYPE))) {\n",
       "      return\n",
       "    }\n",
       "\n",
       "    var toinsert = output_area.element.find(\".\" + CLASS_NAME.split(' ')[0]);\n",
       "\n",
       "    if (output.metadata[EXEC_MIME_TYPE][\"id\"] !== undefined) {\n",
       "      toinsert[toinsert.length - 1].firstChild.textContent = output.data[JS_MIME_TYPE];\n",
       "      // store reference to embed id on output_area\n",
       "      output_area._bokeh_element_id = output.metadata[EXEC_MIME_TYPE][\"id\"];\n",
       "    }\n",
       "    if (output.metadata[EXEC_MIME_TYPE][\"server_id\"] !== undefined) {\n",
       "      var bk_div = document.createElement(\"div\");\n",
       "      bk_div.innerHTML = output.data[HTML_MIME_TYPE];\n",
       "      var script_attrs = bk_div.children[0].attributes;\n",
       "      for (var i = 0; i < script_attrs.length; i++) {\n",
       "        toinsert[toinsert.length - 1].firstChild.setAttribute(script_attrs[i].name, script_attrs[i].value);\n",
       "      }\n",
       "      // store reference to server id on output_area\n",
       "      output_area._bokeh_server_id = output.metadata[EXEC_MIME_TYPE][\"server_id\"];\n",
       "    }\n",
       "  }\n",
       "\n",
       "  function register_renderer(events, OutputArea) {\n",
       "\n",
       "    function append_mime(data, metadata, element) {\n",
       "      // create a DOM node to render to\n",
       "      var toinsert = this.create_output_subarea(\n",
       "        metadata,\n",
       "        CLASS_NAME,\n",
       "        EXEC_MIME_TYPE\n",
       "      );\n",
       "      this.keyboard_manager.register_events(toinsert);\n",
       "      // Render to node\n",
       "      var props = {data: data, metadata: metadata[EXEC_MIME_TYPE]};\n",
       "      render(props, toinsert[toinsert.length - 1]);\n",
       "      element.append(toinsert);\n",
       "      return toinsert\n",
       "    }\n",
       "\n",
       "    /* Handle when an output is cleared or removed */\n",
       "    events.on('clear_output.CodeCell', handleClearOutput);\n",
       "    events.on('delete.Cell', handleClearOutput);\n",
       "\n",
       "    /* Handle when a new output is added */\n",
       "    events.on('output_added.OutputArea', handleAddOutput);\n",
       "\n",
       "    /**\n",
       "     * Register the mime type and append_mime function with output_area\n",
       "     */\n",
       "    OutputArea.prototype.register_mime_type(EXEC_MIME_TYPE, append_mime, {\n",
       "      /* Is output safe? */\n",
       "      safe: true,\n",
       "      /* Index of renderer in `output_area.display_order` */\n",
       "      index: 0\n",
       "    });\n",
       "  }\n",
       "\n",
       "  // register the mime type if in Jupyter Notebook environment and previously unregistered\n",
       "  if (root.Jupyter !== undefined) {\n",
       "    var events = require('base/js/events');\n",
       "    var OutputArea = require('notebook/js/outputarea').OutputArea;\n",
       "\n",
       "    if (OutputArea.prototype.mime_types().indexOf(EXEC_MIME_TYPE) == -1) {\n",
       "      register_renderer(events, OutputArea);\n",
       "    }\n",
       "  }\n",
       "\n",
       "  \n",
       "  if (typeof (root._bokeh_timeout) === \"undefined\" || force === true) {\n",
       "    root._bokeh_timeout = Date.now() + 5000;\n",
       "    root._bokeh_failed_load = false;\n",
       "  }\n",
       "\n",
       "  var NB_LOAD_WARNING = {'data': {'text/html':\n",
       "     \"<div style='background-color: #fdd'>\\n\"+\n",
       "     \"<p>\\n\"+\n",
       "     \"BokehJS does not appear to have successfully loaded. If loading BokehJS from CDN, this \\n\"+\n",
       "     \"may be due to a slow or bad network connection. Possible fixes:\\n\"+\n",
       "     \"</p>\\n\"+\n",
       "     \"<ul>\\n\"+\n",
       "     \"<li>re-rerun `output_notebook()` to attempt to load from CDN again, or</li>\\n\"+\n",
       "     \"<li>use INLINE resources instead, as so:</li>\\n\"+\n",
       "     \"</ul>\\n\"+\n",
       "     \"<code>\\n\"+\n",
       "     \"from bokeh.resources import INLINE\\n\"+\n",
       "     \"output_notebook(resources=INLINE)\\n\"+\n",
       "     \"</code>\\n\"+\n",
       "     \"</div>\"}};\n",
       "\n",
       "  function display_loaded() {\n",
       "    var el = document.getElementById(\"1001\");\n",
       "    if (el != null) {\n",
       "      el.textContent = \"BokehJS is loading...\";\n",
       "    }\n",
       "    if (root.Bokeh !== undefined) {\n",
       "      if (el != null) {\n",
       "        el.textContent = \"BokehJS \" + root.Bokeh.version + \" successfully loaded.\";\n",
       "      }\n",
       "    } else if (Date.now() < root._bokeh_timeout) {\n",
       "      setTimeout(display_loaded, 100)\n",
       "    }\n",
       "  }\n",
       "\n",
       "\n",
       "  function run_callbacks() {\n",
       "    try {\n",
       "      root._bokeh_onload_callbacks.forEach(function(callback) {\n",
       "        if (callback != null)\n",
       "          callback();\n",
       "      });\n",
       "    } finally {\n",
       "      delete root._bokeh_onload_callbacks\n",
       "    }\n",
       "    console.debug(\"Bokeh: all callbacks have finished\");\n",
       "  }\n",
       "\n",
       "  function load_libs(css_urls, js_urls, callback) {\n",
       "    if (css_urls == null) css_urls = [];\n",
       "    if (js_urls == null) js_urls = [];\n",
       "\n",
       "    root._bokeh_onload_callbacks.push(callback);\n",
       "    if (root._bokeh_is_loading > 0) {\n",
       "      console.debug(\"Bokeh: BokehJS is being loaded, scheduling callback at\", now());\n",
       "      return null;\n",
       "    }\n",
       "    if (js_urls == null || js_urls.length === 0) {\n",
       "      run_callbacks();\n",
       "      return null;\n",
       "    }\n",
       "    console.debug(\"Bokeh: BokehJS not loaded, scheduling load and callback at\", now());\n",
       "    root._bokeh_is_loading = css_urls.length + js_urls.length;\n",
       "\n",
       "    function on_load() {\n",
       "      root._bokeh_is_loading--;\n",
       "      if (root._bokeh_is_loading === 0) {\n",
       "        console.debug(\"Bokeh: all BokehJS libraries/stylesheets loaded\");\n",
       "        run_callbacks()\n",
       "      }\n",
       "    }\n",
       "\n",
       "    function on_error() {\n",
       "      console.error(\"failed to load \" + url);\n",
       "    }\n",
       "\n",
       "    for (var i = 0; i < css_urls.length; i++) {\n",
       "      var url = css_urls[i];\n",
       "      const element = document.createElement(\"link\");\n",
       "      element.onload = on_load;\n",
       "      element.onerror = on_error;\n",
       "      element.rel = \"stylesheet\";\n",
       "      element.type = \"text/css\";\n",
       "      element.href = url;\n",
       "      console.debug(\"Bokeh: injecting link tag for BokehJS stylesheet: \", url);\n",
       "      document.body.appendChild(element);\n",
       "    }\n",
       "\n",
       "    for (var i = 0; i < js_urls.length; i++) {\n",
       "      var url = js_urls[i];\n",
       "      var element = document.createElement('script');\n",
       "      element.onload = on_load;\n",
       "      element.onerror = on_error;\n",
       "      element.async = false;\n",
       "      element.src = url;\n",
       "      console.debug(\"Bokeh: injecting script tag for BokehJS library: \", url);\n",
       "      document.head.appendChild(element);\n",
       "    }\n",
       "  };var element = document.getElementById(\"1001\");\n",
       "  if (element == null) {\n",
       "    console.error(\"Bokeh: ERROR: autoload.js configured with elementid '1001' but no matching script tag was found. \")\n",
       "    return false;\n",
       "  }\n",
       "\n",
       "  function inject_raw_css(css) {\n",
       "    const element = document.createElement(\"style\");\n",
       "    element.appendChild(document.createTextNode(css));\n",
       "    document.body.appendChild(element);\n",
       "  }\n",
       "\n",
       "  var js_urls = [\"https://cdn.pydata.org/bokeh/release/bokeh-1.1.0.min.js\", \"https://cdn.pydata.org/bokeh/release/bokeh-widgets-1.1.0.min.js\", \"https://cdn.pydata.org/bokeh/release/bokeh-tables-1.1.0.min.js\", \"https://cdn.pydata.org/bokeh/release/bokeh-gl-1.1.0.min.js\"];\n",
       "  var css_urls = [\"https://cdn.pydata.org/bokeh/release/bokeh-1.1.0.min.css\", \"https://cdn.pydata.org/bokeh/release/bokeh-widgets-1.1.0.min.css\", \"https://cdn.pydata.org/bokeh/release/bokeh-tables-1.1.0.min.css\"];\n",
       "\n",
       "  var inline_js = [\n",
       "    function(Bokeh) {\n",
       "      Bokeh.set_log_level(\"info\");\n",
       "    },\n",
       "    \n",
       "    function(Bokeh) {\n",
       "      \n",
       "    },\n",
       "    function(Bokeh) {} // ensure no trailing comma for IE\n",
       "  ];\n",
       "\n",
       "  function run_inline_js() {\n",
       "    \n",
       "    if ((root.Bokeh !== undefined) || (force === true)) {\n",
       "      for (var i = 0; i < inline_js.length; i++) {\n",
       "        inline_js[i].call(root, root.Bokeh);\n",
       "      }if (force === true) {\n",
       "        display_loaded();\n",
       "      }} else if (Date.now() < root._bokeh_timeout) {\n",
       "      setTimeout(run_inline_js, 100);\n",
       "    } else if (!root._bokeh_failed_load) {\n",
       "      console.log(\"Bokeh: BokehJS failed to load within specified timeout.\");\n",
       "      root._bokeh_failed_load = true;\n",
       "    } else if (force !== true) {\n",
       "      var cell = $(document.getElementById(\"1001\")).parents('.cell').data().cell;\n",
       "      cell.output_area.append_execute_result(NB_LOAD_WARNING)\n",
       "    }\n",
       "\n",
       "  }\n",
       "\n",
       "  if (root._bokeh_is_loading === 0) {\n",
       "    console.debug(\"Bokeh: BokehJS loaded, going straight to plotting\");\n",
       "    run_inline_js();\n",
       "  } else {\n",
       "    load_libs(css_urls, js_urls, function() {\n",
       "      console.debug(\"Bokeh: BokehJS plotting callback run at\", now());\n",
       "      run_inline_js();\n",
       "    });\n",
       "  }\n",
       "}(window));"
      ],
      "application/vnd.bokehjs_load.v0+json": "\n(function(root) {\n  function now() {\n    return new Date();\n  }\n\n  var force = true;\n\n  if (typeof root._bokeh_onload_callbacks === \"undefined\" || force === true) {\n    root._bokeh_onload_callbacks = [];\n    root._bokeh_is_loading = undefined;\n  }\n\n  \n\n  \n  if (typeof (root._bokeh_timeout) === \"undefined\" || force === true) {\n    root._bokeh_timeout = Date.now() + 5000;\n    root._bokeh_failed_load = false;\n  }\n\n  var NB_LOAD_WARNING = {'data': {'text/html':\n     \"<div style='background-color: #fdd'>\\n\"+\n     \"<p>\\n\"+\n     \"BokehJS does not appear to have successfully loaded. If loading BokehJS from CDN, this \\n\"+\n     \"may be due to a slow or bad network connection. Possible fixes:\\n\"+\n     \"</p>\\n\"+\n     \"<ul>\\n\"+\n     \"<li>re-rerun `output_notebook()` to attempt to load from CDN again, or</li>\\n\"+\n     \"<li>use INLINE resources instead, as so:</li>\\n\"+\n     \"</ul>\\n\"+\n     \"<code>\\n\"+\n     \"from bokeh.resources import INLINE\\n\"+\n     \"output_notebook(resources=INLINE)\\n\"+\n     \"</code>\\n\"+\n     \"</div>\"}};\n\n  function display_loaded() {\n    var el = document.getElementById(\"1001\");\n    if (el != null) {\n      el.textContent = \"BokehJS is loading...\";\n    }\n    if (root.Bokeh !== undefined) {\n      if (el != null) {\n        el.textContent = \"BokehJS \" + root.Bokeh.version + \" successfully loaded.\";\n      }\n    } else if (Date.now() < root._bokeh_timeout) {\n      setTimeout(display_loaded, 100)\n    }\n  }\n\n\n  function run_callbacks() {\n    try {\n      root._bokeh_onload_callbacks.forEach(function(callback) {\n        if (callback != null)\n          callback();\n      });\n    } finally {\n      delete root._bokeh_onload_callbacks\n    }\n    console.debug(\"Bokeh: all callbacks have finished\");\n  }\n\n  function load_libs(css_urls, js_urls, callback) {\n    if (css_urls == null) css_urls = [];\n    if (js_urls == null) js_urls = [];\n\n    root._bokeh_onload_callbacks.push(callback);\n    if (root._bokeh_is_loading > 0) {\n      console.debug(\"Bokeh: BokehJS is being loaded, scheduling callback at\", now());\n      return null;\n    }\n    if (js_urls == null || js_urls.length === 0) {\n      run_callbacks();\n      return null;\n    }\n    console.debug(\"Bokeh: BokehJS not loaded, scheduling load and callback at\", now());\n    root._bokeh_is_loading = css_urls.length + js_urls.length;\n\n    function on_load() {\n      root._bokeh_is_loading--;\n      if (root._bokeh_is_loading === 0) {\n        console.debug(\"Bokeh: all BokehJS libraries/stylesheets loaded\");\n        run_callbacks()\n      }\n    }\n\n    function on_error() {\n      console.error(\"failed to load \" + url);\n    }\n\n    for (var i = 0; i < css_urls.length; i++) {\n      var url = css_urls[i];\n      const element = document.createElement(\"link\");\n      element.onload = on_load;\n      element.onerror = on_error;\n      element.rel = \"stylesheet\";\n      element.type = \"text/css\";\n      element.href = url;\n      console.debug(\"Bokeh: injecting link tag for BokehJS stylesheet: \", url);\n      document.body.appendChild(element);\n    }\n\n    for (var i = 0; i < js_urls.length; i++) {\n      var url = js_urls[i];\n      var element = document.createElement('script');\n      element.onload = on_load;\n      element.onerror = on_error;\n      element.async = false;\n      element.src = url;\n      console.debug(\"Bokeh: injecting script tag for BokehJS library: \", url);\n      document.head.appendChild(element);\n    }\n  };var element = document.getElementById(\"1001\");\n  if (element == null) {\n    console.error(\"Bokeh: ERROR: autoload.js configured with elementid '1001' but no matching script tag was found. \")\n    return false;\n  }\n\n  function inject_raw_css(css) {\n    const element = document.createElement(\"style\");\n    element.appendChild(document.createTextNode(css));\n    document.body.appendChild(element);\n  }\n\n  var js_urls = [\"https://cdn.pydata.org/bokeh/release/bokeh-1.1.0.min.js\", \"https://cdn.pydata.org/bokeh/release/bokeh-widgets-1.1.0.min.js\", \"https://cdn.pydata.org/bokeh/release/bokeh-tables-1.1.0.min.js\", \"https://cdn.pydata.org/bokeh/release/bokeh-gl-1.1.0.min.js\"];\n  var css_urls = [\"https://cdn.pydata.org/bokeh/release/bokeh-1.1.0.min.css\", \"https://cdn.pydata.org/bokeh/release/bokeh-widgets-1.1.0.min.css\", \"https://cdn.pydata.org/bokeh/release/bokeh-tables-1.1.0.min.css\"];\n\n  var inline_js = [\n    function(Bokeh) {\n      Bokeh.set_log_level(\"info\");\n    },\n    \n    function(Bokeh) {\n      \n    },\n    function(Bokeh) {} // ensure no trailing comma for IE\n  ];\n\n  function run_inline_js() {\n    \n    if ((root.Bokeh !== undefined) || (force === true)) {\n      for (var i = 0; i < inline_js.length; i++) {\n        inline_js[i].call(root, root.Bokeh);\n      }if (force === true) {\n        display_loaded();\n      }} else if (Date.now() < root._bokeh_timeout) {\n      setTimeout(run_inline_js, 100);\n    } else if (!root._bokeh_failed_load) {\n      console.log(\"Bokeh: BokehJS failed to load within specified timeout.\");\n      root._bokeh_failed_load = true;\n    } else if (force !== true) {\n      var cell = $(document.getElementById(\"1001\")).parents('.cell').data().cell;\n      cell.output_area.append_execute_result(NB_LOAD_WARNING)\n    }\n\n  }\n\n  if (root._bokeh_is_loading === 0) {\n    console.debug(\"Bokeh: BokehJS loaded, going straight to plotting\");\n    run_inline_js();\n  } else {\n    load_libs(css_urls, js_urls, function() {\n      console.debug(\"Bokeh: BokehJS plotting callback run at\", now());\n      run_inline_js();\n    });\n  }\n}(window));"
     },
     "metadata": {},
     "output_type": "display_data"
    },
    {
     "name": "stdout",
     "output_type": "stream",
     "text": [
      "available corpora : \n",
      "  - CID\n",
      "  - DVD\n",
      "  - Fisher\n",
      "  - MTX\n",
      "  - SWBD\n"
     ]
    }
   ],
   "source": [
    "%run ./source/main.py"
   ]
  },
  {
   "cell_type": "markdown",
   "metadata": {},
   "source": [
    "---\n",
    "Checking on the global size of the corpora"
   ]
  },
  {
   "cell_type": "code",
   "execution_count": 2,
   "metadata": {},
   "outputs": [
    {
     "name": "stdout",
     "output_type": "stream",
     "text": [
      "C:\\Users\\vignal\\PycharmProjects\\LPL-realOne\\source\\..\\data\\corpus\\Fisher/Fisher2/data/bbn_orig/081/auto-segmented/fe_03_08114\n",
      "C:\\Users\\vignal\\PycharmProjects\\LPL-realOne\\source\\..\\data\\corpus\\Fisher/Fisher2/data/bbn_orig/081/auto-segmented/fe_03_08114\n",
      "C:\\Users\\vignal\\PycharmProjects\\LPL-realOne\\source\\..\\data\\corpus\\Fisher/Fisher2/data/bbn_orig/081/auto-segmented/fe_03_08182\n",
      "C:\\Users\\vignal\\PycharmProjects\\LPL-realOne\\source\\..\\data\\corpus\\Fisher/Fisher2/data/bbn_orig/081/auto-segmented/fe_03_08182\n"
     ]
    },
    {
     "data": {
      "application/vnd.jupyter.widget-view+json": {
       "model_id": "daea550a28474b2890442dab5c7fa6aa",
       "version_major": 2,
       "version_minor": 0
      },
      "text/plain": [
       "HBox(children=(VBox(children=(Checkbox(value=True, description='CID'), Checkbox(value=True, description='DVD')…"
      ]
     },
     "metadata": {},
     "output_type": "display_data"
    },
    {
     "data": {
      "text/html": [
       "\n",
       "\n",
       "\n",
       "\n",
       "\n",
       "\n",
       "  <div class=\"bk-root\" id=\"2c07f25f-6127-464c-bb0b-33b1b4d77c86\" data-root-id=\"1002\"></div>\n"
      ]
     },
     "metadata": {},
     "output_type": "display_data"
    },
    {
     "data": {
      "application/javascript": [
       "(function(root) {\n",
       "  function embed_document(root) {\n",
       "    \n",
       "  var docs_json = {\"102c447d-da46-4e13-b40e-c448a8133c31\":{\"roots\":{\"references\":[{\"attributes\":{\"below\":[{\"id\":\"1012\",\"type\":\"CategoricalAxis\"}],\"center\":[{\"id\":\"1015\",\"type\":\"Grid\"},{\"id\":\"1020\",\"type\":\"Grid\"}],\"left\":[{\"id\":\"1016\",\"type\":\"LinearAxis\"}],\"renderers\":[{\"id\":\"1026\",\"type\":\"GlyphRenderer\"}],\"title\":null,\"toolbar\":{\"id\":\"1021\",\"type\":\"Toolbar\"},\"x_range\":{\"id\":\"1004\",\"type\":\"FactorRange\"},\"x_scale\":{\"id\":\"1008\",\"type\":\"CategoricalScale\"},\"y_range\":{\"id\":\"1006\",\"type\":\"DataRange1d\"},\"y_scale\":{\"id\":\"1010\",\"type\":\"LinearScale\"}},\"id\":\"1002\",\"subtype\":\"Figure\",\"type\":\"Plot\"},{\"attributes\":{\"source\":{\"id\":\"1025\",\"type\":\"ColumnDataSource\"}},\"id\":\"1027\",\"type\":\"CDSView\"},{\"attributes\":{\"callback\":null},\"id\":\"1006\",\"type\":\"DataRange1d\"},{\"attributes\":{\"ticker\":{\"id\":\"1013\",\"type\":\"CategoricalTicker\"}},\"id\":\"1015\",\"type\":\"Grid\"},{\"attributes\":{\"callback\":null,\"factors\":[\"SWBD\",\"CID\",\"MTX\",\"Fisher\",\"DVD\"]},\"id\":\"1004\",\"type\":\"FactorRange\"},{\"attributes\":{\"formatter\":{\"id\":\"1032\",\"type\":\"CategoricalTickFormatter\"},\"ticker\":{\"id\":\"1013\",\"type\":\"CategoricalTicker\"}},\"id\":\"1012\",\"type\":\"CategoricalAxis\"},{\"attributes\":{\"formatter\":{\"id\":\"1030\",\"type\":\"BasicTickFormatter\"},\"ticker\":{\"id\":\"1017\",\"type\":\"BasicTicker\"}},\"id\":\"1016\",\"type\":\"LinearAxis\"},{\"attributes\":{\"callback\":null,\"tooltips\":[[\"(x,y)\",\"(@x,@top)\"]]},\"id\":\"1022\",\"type\":\"HoverTool\"},{\"attributes\":{\"active_drag\":\"auto\",\"active_inspect\":\"auto\",\"active_multi\":null,\"active_scroll\":\"auto\",\"active_tap\":\"auto\",\"tools\":[{\"id\":\"1022\",\"type\":\"HoverTool\"}]},\"id\":\"1021\",\"type\":\"Toolbar\"},{\"attributes\":{\"fill_color\":{\"value\":\"#3AC0C3\"},\"top\":{\"field\":\"top\"},\"width\":{\"value\":0.2},\"x\":{\"field\":\"x\"}},\"id\":\"1024\",\"type\":\"VBar\"},{\"attributes\":{\"data_source\":{\"id\":\"1025\",\"type\":\"ColumnDataSource\"},\"glyph\":{\"id\":\"1024\",\"type\":\"VBar\"},\"hover_glyph\":null,\"muted_glyph\":null,\"view\":{\"id\":\"1027\",\"type\":\"CDSView\"}},\"id\":\"1026\",\"type\":\"GlyphRenderer\"},{\"attributes\":{\"dimension\":1,\"ticker\":{\"id\":\"1017\",\"type\":\"BasicTicker\"}},\"id\":\"1020\",\"type\":\"Grid\"},{\"attributes\":{},\"id\":\"1008\",\"type\":\"CategoricalScale\"},{\"attributes\":{},\"id\":\"1013\",\"type\":\"CategoricalTicker\"},{\"attributes\":{\"callback\":null,\"data\":{\"hover\":[16.108055555555556,8.70888888888889,1679.271346666664,5.635277777777778,517.5788888888889],\"top\":[16.108055555555556,8.70888888888889,1679.271346666664,5.635277777777778,517.5788888888889],\"x\":[\"CID\",\"DVD\",\"Fisher\",\"MTX\",\"SWBD\"]},\"selected\":{\"id\":\"1033\",\"type\":\"Selection\"},\"selection_policy\":{\"id\":\"1034\",\"type\":\"UnionRenderers\"}},\"id\":\"1025\",\"type\":\"ColumnDataSource\"},{\"attributes\":{},\"id\":\"1030\",\"type\":\"BasicTickFormatter\"},{\"attributes\":{},\"id\":\"1017\",\"type\":\"BasicTicker\"},{\"attributes\":{},\"id\":\"1032\",\"type\":\"CategoricalTickFormatter\"},{\"attributes\":{},\"id\":\"1034\",\"type\":\"UnionRenderers\"},{\"attributes\":{},\"id\":\"1033\",\"type\":\"Selection\"},{\"attributes\":{},\"id\":\"1010\",\"type\":\"LinearScale\"}],\"root_ids\":[\"1002\"]},\"title\":\"Bokeh Application\",\"version\":\"1.1.0\"}};\n",
       "  var render_items = [{\"docid\":\"102c447d-da46-4e13-b40e-c448a8133c31\",\"notebook_comms_target\":\"1035\",\"roots\":{\"1002\":\"2c07f25f-6127-464c-bb0b-33b1b4d77c86\"}}];\n",
       "  root.Bokeh.embed.embed_items_notebook(docs_json, render_items);\n",
       "\n",
       "  }\n",
       "  if (root.Bokeh !== undefined) {\n",
       "    embed_document(root);\n",
       "  } else {\n",
       "    var attempts = 0;\n",
       "    var timer = setInterval(function(root) {\n",
       "      if (root.Bokeh !== undefined) {\n",
       "        embed_document(root);\n",
       "        clearInterval(timer);\n",
       "      }\n",
       "      attempts++;\n",
       "      if (attempts > 100) {\n",
       "        console.log(\"Bokeh: ERROR: Unable to run BokehJS code because BokehJS library is missing\");\n",
       "        clearInterval(timer);\n",
       "      }\n",
       "    }, 10, root)\n",
       "  }\n",
       "})(window);"
      ],
      "application/vnd.bokehjs_exec.v0+json": ""
     },
     "metadata": {
      "application/vnd.bokehjs_exec.v0+json": {
       "id": "1002"
      }
     },
     "output_type": "display_data"
    }
   ],
   "source": [
    "globalView(\"all\")"
   ]
  },
  {
   "cell_type": "markdown",
   "metadata": {},
   "source": [
    "---\n",
    "This graph use quartiles to visualise the disparity in corpus conversations. The upper segments represents the 25% highest values, same thing for the lower segments, the rectangle is where 50 % Of the conversations are."
   ]
  },
  {
   "cell_type": "code",
   "execution_count": 3,
   "metadata": {
    "scrolled": false
   },
   "outputs": [],
   "source": [
    "#analysisByConversation(\"mtx, cid, swbd, dvd, Fisher\")"
   ]
  },
  {
   "cell_type": "markdown",
   "metadata": {},
   "source": [
    "---\n",
    "This graph helps you to get an idea of the different speakers present in a corpus and their impact."
   ]
  },
  {
   "cell_type": "code",
   "execution_count": 4,
   "metadata": {
    "scrolled": false
   },
   "outputs": [],
   "source": [
    "#speakerAnalysis(\"swbd\")"
   ]
  },
  {
   "cell_type": "markdown",
   "metadata": {},
   "source": [
    "-------------------------------------------------------------------------------\n",
    "In this graph each corpus is represented given many criterions. For each criterion the max value of all corpus for the criterion is displayed."
   ]
  },
  {
   "cell_type": "code",
   "execution_count": 5,
   "metadata": {
    "scrolled": false
   },
   "outputs": [],
   "source": [
    "#mutliCriterionAnalysis(\"cid, mtx\")"
   ]
  },
  {
   "cell_type": "markdown",
   "metadata": {},
   "source": [
    "-------------------------------------------------------------------------------\n",
    "In the x axis is displayed the words that appear in the chosen corpus.\n",
    "In the y axis is displayed the number of times a word appear"
   ]
  },
  {
   "cell_type": "code",
   "execution_count": 6,
   "metadata": {
    "scrolled": false
   },
   "outputs": [],
   "source": [
    "#wordDistribution(\"all\")"
   ]
  },
  {
   "cell_type": "markdown",
   "metadata": {},
   "source": [
    "-------------------------------------------------------------------------------\n",
    "The below functions are used to create an analysis starting in height dimensions(lots of criterions) and ending in 2D to help visualization."
   ]
  },
  {
   "cell_type": "code",
   "execution_count": 7,
   "metadata": {},
   "outputs": [
    {
     "data": {
      "application/vnd.jupyter.widget-view+json": {
       "model_id": "7310fe49d9ef450a806a0ddbc9ca79e7",
       "version_major": 2,
       "version_minor": 0
      },
      "text/plain": [
       "HBox()"
      ]
     },
     "metadata": {},
     "output_type": "display_data"
    },
    {
     "data": {
      "text/html": [
       "\n",
       "\n",
       "\n",
       "\n",
       "\n",
       "\n",
       "  <div class=\"bk-root\" id=\"fb9e189a-e7ec-406f-9534-dc5aad28d98b\" data-root-id=\"1078\"></div>\n"
      ]
     },
     "metadata": {},
     "output_type": "display_data"
    },
    {
     "data": {
      "application/javascript": [
       "(function(root) {\n",
       "  function embed_document(root) {\n",
       "    \n",
       "  var docs_json = {\"f2fc4830-407f-4b1e-a293-b4c4d6b15223\":{\"roots\":{\"references\":[{\"attributes\":{\"below\":[{\"id\":\"1088\",\"type\":\"LinearAxis\"}],\"center\":[{\"id\":\"1092\",\"type\":\"Grid\"},{\"id\":\"1097\",\"type\":\"Grid\"}],\"left\":[{\"id\":\"1093\",\"type\":\"LinearAxis\"}],\"renderers\":[{\"id\":\"1112\",\"type\":\"GlyphRenderer\"}],\"title\":null,\"toolbar\":{\"id\":\"1102\",\"type\":\"Toolbar\"},\"x_range\":{\"id\":\"1080\",\"type\":\"DataRange1d\"},\"x_scale\":{\"id\":\"1084\",\"type\":\"LinearScale\"},\"y_range\":{\"id\":\"1082\",\"type\":\"DataRange1d\"},\"y_scale\":{\"id\":\"1086\",\"type\":\"LinearScale\"}},\"id\":\"1078\",\"subtype\":\"Figure\",\"type\":\"Plot\"},{\"attributes\":{},\"id\":\"1128\",\"type\":\"UnionRenderers\"},{\"attributes\":{},\"id\":\"1089\",\"type\":\"BasicTicker\"},{\"attributes\":{\"bottom_units\":\"screen\",\"fill_alpha\":{\"value\":0.5},\"fill_color\":{\"value\":\"lightgrey\"},\"left_units\":\"screen\",\"level\":\"overlay\",\"line_alpha\":{\"value\":1.0},\"line_color\":{\"value\":\"black\"},\"line_dash\":[4,4],\"line_width\":{\"value\":2},\"render_mode\":\"css\",\"right_units\":\"screen\",\"top_units\":\"screen\"},\"id\":\"1126\",\"type\":\"BoxAnnotation\"},{\"attributes\":{\"fill_color\":{\"field\":\"fill_color\"},\"size\":{\"units\":\"screen\",\"value\":10},\"x\":{\"field\":\"x\"},\"y\":{\"field\":\"top\"}},\"id\":\"1110\",\"type\":\"Circle\"},{\"attributes\":{\"formatter\":{\"id\":\"1125\",\"type\":\"BasicTickFormatter\"},\"ticker\":{\"id\":\"1089\",\"type\":\"BasicTicker\"}},\"id\":\"1088\",\"type\":\"LinearAxis\"},{\"attributes\":{\"overlay\":{\"id\":\"1126\",\"type\":\"BoxAnnotation\"}},\"id\":\"1100\",\"type\":\"BoxZoomTool\"},{\"attributes\":{},\"id\":\"1125\",\"type\":\"BasicTickFormatter\"},{\"attributes\":{\"ticker\":{\"id\":\"1089\",\"type\":\"BasicTicker\"}},\"id\":\"1092\",\"type\":\"Grid\"},{\"attributes\":{\"active_drag\":\"auto\",\"active_inspect\":\"auto\",\"active_multi\":null,\"active_scroll\":\"auto\",\"active_tap\":\"auto\",\"tools\":[{\"id\":\"1098\",\"type\":\"PanTool\"},{\"id\":\"1099\",\"type\":\"WheelZoomTool\"},{\"id\":\"1100\",\"type\":\"BoxZoomTool\"},{\"id\":\"1101\",\"type\":\"ResetTool\"},{\"id\":\"1107\",\"type\":\"HoverTool\"}]},\"id\":\"1102\",\"type\":\"Toolbar\"},{\"attributes\":{},\"id\":\"1084\",\"type\":\"LinearScale\"},{\"attributes\":{},\"id\":\"1123\",\"type\":\"BasicTickFormatter\"},{\"attributes\":{\"callback\":null,\"data\":{\"fill_color\":[\"black\",\"black\",\"black\",\"black\",\"black\",\"black\",\"black\",\"black\",\"black\",\"black\",\"black\",\"black\",\"black\",\"black\",\"black\",\"black\",\"black\",\"black\",\"black\",\"black\",\"black\",\"black\",\"black\",\"black\",\"black\",\"black\",\"black\",\"black\",\"black\",\"black\",\"black\",\"black\",\"black\",\"black\",\"black\",\"black\",\"black\",\"black\",\"black\",\"black\",\"black\",\"black\",\"black\",\"black\",\"black\",\"black\",\"black\",\"black\",\"black\",\"black\",\"black\",\"black\",\"black\",\"black\",\"black\",\"black\",\"black\",\"black\",\"black\",\"black\",\"black\",\"black\",\"black\",\"black\",\"black\",\"black\",\"black\",\"black\",\"black\",\"black\",\"black\",\"black\",\"black\",\"black\",\"black\",\"black\",\"black\",\"black\",\"black\",\"black\",\"black\",\"black\",\"black\",\"black\",\"black\",\"black\",\"black\",\"black\",\"black\",\"black\",\"black\",\"black\",\"black\",\"black\",\"black\",\"black\",\"black\",\"black\",\"black\",\"black\",\"black\",\"black\",\"black\",\"black\",\"black\",\"black\",\"black\",\"black\",\"black\",\"black\",\"black\",\"black\",\"black\",\"black\",\"black\",\"black\",\"black\",\"black\",\"black\",\"black\",\"black\",\"black\",\"black\",\"black\",\"black\",\"black\",\"black\",\"black\",\"black\",\"black\",\"black\",\"black\",\"black\",\"black\",\"black\",\"black\",\"black\",\"black\",\"black\",\"black\",\"black\",\"black\",\"black\",\"black\",\"black\",\"black\",\"black\",\"black\",\"black\",\"black\",\"black\",\"black\",\"black\",\"black\",\"black\",\"black\",\"black\",\"black\",\"black\",\"black\",\"black\",\"black\",\"black\",\"black\",\"black\",\"black\",\"black\",\"black\",\"black\",\"black\",\"black\",\"black\",\"black\",\"black\",\"black\",\"black\",\"black\",\"black\",\"black\",\"black\",\"black\",\"black\",\"black\",\"black\",\"black\",\"black\",\"black\",\"black\",\"black\",\"black\",\"black\",\"black\",\"black\",\"black\",\"black\",\"black\",\"black\",\"black\",\"black\",\"black\",\"black\",\"black\",\"black\",\"black\",\"black\",\"black\",\"black\",\"black\",\"black\",\"black\",\"black\",\"black\",\"black\",\"black\",\"black\",\"black\",\"black\",\"black\",\"black\",\"black\",\"black\",\"black\",\"black\",\"black\",\"black\",\"black\",\"black\",\"black\",\"black\",\"black\",\"black\",\"black\",\"black\",\"black\",\"black\",\"black\",\"black\",\"black\",\"black\",\"black\",\"black\",\"black\",\"black\",\"black\",\"black\",\"black\",\"black\",\"black\",\"black\",\"black\",\"black\",\"black\",\"black\",\"black\",\"black\",\"black\",\"black\",\"black\",\"black\",\"black\",\"black\",\"black\",\"black\",\"black\",\"black\",\"black\",\"black\",\"black\",\"black\",\"black\",\"black\",\"black\",\"black\",\"black\",\"black\",\"black\",\"black\",\"black\",\"black\",\"black\",\"black\",\"black\",\"black\",\"black\",\"black\",\"black\",\"black\",\"black\",\"black\",\"black\",\"black\",\"black\",\"black\",\"black\",\"black\",\"black\",\"black\",\"black\",\"black\",\"black\",\"black\",\"black\",\"black\",\"black\",\"black\",\"black\",\"black\",\"black\",\"black\",\"black\",\"black\",\"black\",\"black\",\"black\",\"black\",\"black\",\"black\",\"black\",\"black\",\"black\",\"black\",\"black\",\"black\",\"black\",\"black\",\"black\",\"black\",\"black\",\"black\",\"black\",\"black\",\"black\",\"black\",\"black\",\"black\",\"black\",\"black\",\"black\",\"black\",\"black\",\"black\",\"black\",\"black\",\"black\",\"black\",\"black\",\"black\",\"black\",\"black\",\"black\",\"black\",\"black\",\"black\",\"black\",\"black\",\"black\",\"black\",\"black\",\"black\",\"black\",\"black\",\"black\",\"black\",\"black\",\"black\",\"black\",\"black\",\"black\",\"black\",\"black\",\"black\",\"black\",\"black\",\"black\",\"black\",\"black\",\"black\",\"black\",\"black\",\"black\",\"black\",\"black\",\"black\",\"black\",\"black\",\"black\",\"black\",\"black\",\"black\",\"black\",\"black\",\"black\",\"black\",\"black\",\"black\",\"black\",\"black\",\"black\",\"black\",\"black\",\"black\",\"black\",\"black\",\"black\",\"black\",\"black\",\"black\",\"black\",\"black\",\"black\",\"black\",\"black\",\"black\",\"black\",\"black\",\"black\",\"black\",\"black\",\"black\",\"black\",\"black\",\"black\",\"black\",\"black\",\"black\",\"black\",\"black\",\"black\",\"black\",\"black\",\"black\",\"black\",\"black\",\"black\",\"black\",\"black\",\"black\",\"black\",\"black\",\"black\",\"black\",\"black\",\"black\",\"black\",\"black\",\"black\",\"black\",\"black\",\"black\",\"black\",\"black\",\"black\",\"black\",\"black\",\"black\",\"black\",\"black\",\"black\",\"black\",\"black\",\"black\",\"black\",\"black\",\"black\",\"black\",\"black\",\"black\",\"black\"],\"top\":[2.177029119814725,-2.196211687511695,-0.435223759591975,-1.5778172973191078,-0.522792127806753,-4.012732675143427,0.38036187727578086,1.14615547247264,-1.3954894664006605,0.7263658817417344,0.5282298671918275,3.4334442018450746,0.001529510938818405,-0.8196524247374856,1.1602107118366565,2.015229638039872,-1.420906055367921,-3.584849429101846,-1.7648467488861377,-4.3687529976160855,2.372805147379583,0.5092995619305651,3.6166579956529707,-3.997214339499528,-2.1862540022510655,1.075328610994205,1.921936541532369,-1.7478799445591409,-2.8503305908925713,-4.1617498383025175,2.0488047647717385,-1.3686533846889366,0.21136111636212385,-0.1214577589285809,3.7857328896293563,-1.4473222116814437,-1.586194375790819,-0.8485521318516884,1.4384914897532841,-2.1047808253310336,-0.9055568096955529,-2.5480388785914676,-0.7532576332280243,-0.6743786688363252,-1.461658668290049,0.37268942187488385,-2.0144624599301095,-0.7262534168503139,-3.00179662713451,1.6789353824361957,-0.4205652730918846,2.056132927626088,2.4387455739328128,0.9267742622769073,-4.167925895043826,-0.5128845629020249,-1.737045397501128,-1.083767765241726,2.474130307755353,-3.63794088637864,-0.3973793506651094,-1.8818078542142427,-2.783146513646551,-3.624620781732002,1.8414473426476647,-4.16544790790105,-1.9611154981307473,-0.20217855622261496,-0.1579466849120024,-4.437622146158167,1.4410127479470813,2.139950749636508,-2.1057897605610316,2.9031485479500487,0.15808099787271115,-0.7417771243537341,-2.3041336825241956,-0.33637875338805606,-0.5360250934743067,-0.8990290285687818,-2.617859016900158,0.8280496960523722,-2.8778661312866727,0.6075710594992175,3.348199158478429,-5.933745370713445,-0.1302809854740496,0.8207506713709924,-4.056190179956918,0.482638737494544,-1.0033849298325106,1.1094486833154922,-3.0891570498270275,-3.734175789382564,0.23990266496350668,0.3689967184619613,0.5523563816685829,0.7116563452509251,-1.6908499696784656,2.1638386755129178,1.6012303530687972,-2.7272313145208473,-0.22133585756585794,-2.4400984326410766,-1.2207484014109884,-0.9011346292448978,2.4446306264433657,-1.9260017427550769,0.0998474540466885,-0.8296728519491231,0.8463496047283782,-1.0562719322540823,-0.09733212301041635,-1.3890781818432765,-3.8642954331852155,-0.8806444702561026,-3.1234888398870857,0.2723023286772365,-1.1271463450003265,1.477089166851986,1.0237864382081792,-0.7110503317056264,1.4128365388564192,3.7922561493179905,-1.9159197546600828,-0.8707375772950494,0.2717704772370344,2.50152413985922,-0.6835399216050748,-1.9389974802932255,-0.1347252246897147,-3.5565777478218887,-2.371803967576977,0.342385610000288,-5.77008728675569,-3.633825406022788,1.3127185649289577,1.0542370982936007,-0.8280927114476309,0.001501952667819503,-0.22727806372644938,-0.449480654077948,1.4776392880397164,-2.9196075723327257,-0.932185968130756,1.0640907120005327,1.6469876033008208,0.9887203166813058,-0.1687446213603389,1.6354041240202002,-0.08114545221847123,3.256558330196629,1.2740415371652694,-3.640487008473176,0.673681235948194,0.4859483155698132,0.05818604998696645,1.6172626808387642,0.2176503460352113,-1.3519619761037909,-1.8500755805807187,-1.1212122526657458,-0.07899598451037036,1.0431837556694337,1.0737184761407783,-1.5056557407588258,-0.7751615182420333,2.046735986102228,-1.7360723208997813,2.121047642628815,0.8006577206435455,0.8340794769182727,-2.0660558891946548,0.1472083699843793,2.5025760790445593,-1.2964522148545172,0.052784781521677246,0.4945734008312054,0.15792319280489353,-0.22351306165206894,0.15337108104274702,1.9309139242380626,0.7933546428603704,1.747353600322001,0.4670483891979472,0.012861007885724373,1.551209581445664,0.07235970130337988,-2.6357585722353125,1.6133054182615285,0.6800241003540497,-1.0852609214955133,-1.8732528829519213,-1.355318473360364,1.8611362984551596,-1.2837612353379662,3.2385075642780032,-0.5547115703973847,1.6341151863620653,0.2778167057984769,-1.8120441839747505,-1.2192333855212227,1.984523124530865,0.8208993902095976,-0.7419549590450842,2.946809333630277,1.0319286998777806,0.3621662592940789,-1.7424732998696766,2.517945709251108,3.0403623669729236,3.6962914516175447,2.0748252629162733,-0.72659310580835,1.76703957119542,-0.7270221451491645,-0.7818100833086707,0.4650532353283244,0.2376367573965725,-1.432637081513903,-2.013750051880286,-2.1557476906096738,0.7326132781361391,2.915331446648419,3.561068061536356,-0.19487775831824697,-1.1027866637770942,1.0606895690860378,-0.33419329566218947,0.6903682075014288,-0.16011269633428724,-0.6943460312558228,0.9323480464962288,2.9194854213951484,-1.5375682819486916,0.2803997244268385,0.4519333659097927,-1.5576579210689818,1.9574293675332708,1.4184605660248064,1.5531007060099093,-2.313824887520415,-0.2385698600877058,-0.7497071047640316,2.8206647968896625,0.1856271242659225,1.316936722123366,-1.0661900299651386,-1.4006278851203176,-0.6018548042450276,2.7616827363339094,2.1629079484682756,0.4405035646229057,-0.38983005825631933,1.0571646006412958,0.5436843040129158,2.256830205944736,1.7058377391029211,-0.6010305986980503,0.050444046532795175,-0.16825374073507984,0.06863087049592939,1.393885853115451,-1.7802507800745042,-1.2241669259628793,1.3922751313303736,2.015864576985087,-1.2435149331609787,-2.661657332986053,2.3207572307330113,-1.062273579975928,-0.05404573804818165,1.9651194330931054,-1.4790172456195865,-1.8347378384877187,-1.3254514074539283,-1.4806259964807924,2.349593766547178,0.11180341831443183,-1.3365762317560193,0.5663064457176291,1.79095418814603,2.5453287098006436,0.6594808189601609,-0.5950629867736962,0.8244662386536773,-0.9821006272094651,-2.1607434378117523,-1.19021069663396,1.3468357947450298,-0.800044811933359,2.8419721389977792,-0.24644044888660052,0.3092733260248817,0.10547691399485074,2.8696057669291535,3.955608142907264,0.771057735789632,-0.09384628880229558,0.5302350925862764,-0.12269898181300781,0.8522544274981572,0.015683931496498164,-1.1756111716007451,-0.4988060580322272,-1.807372465423059,0.04275372132822101,-0.3865626716555564,-1.5551077177717265,1.193939025263528,-1.0934842662653774,-2.3976151560192656,0.302495275523104,0.45597442648009,1.7381034200886387,-0.01660162675707731,-0.25255315217538615,-0.0038196867170574005,-0.035643256581989524,-0.037715517211561904,1.3778058077412731,-0.5109840930196571,-1.6303388305791509,3.31226342260338,0.8724354078630967,-2.9271245762334193,2.863827013600846,0.0008452033176655546,1.512680751757459,-1.294160813431246,1.7136998229378653,2.9492762998586093,0.24427310811088418,-2.3232544414037943,-0.6953086989600256,-3.6252120868166546,-0.04931948749988816,0.66017572603583,1.5315841204667933,1.5532677272973345,0.31136180864829033,-1.7902637184161918,-1.1828740147495327,-0.1842966025897125,0.42013476635177294,0.15548676371586756,2.178759430720226,0.3881892368155159,0.3426287798737459,-0.3239658859868842,-1.3972329090818312,-0.6708924251088237,0.35614580526821865,-1.47785751270447,1.2311543972708712,-1.4678521523021744,0.28633386678168593,0.4634896008566672,0.15773848065646429,0.8361550611902215,0.701037964674205,-0.39804014926500025,0.5441596241322729,0.06102921827744533,-1.2357613124933895,-1.9758820981105798,-2.341594128479325,-0.05162009177636909,-0.29268855838824775,-2.5971873008480397,-2.0390548013263357,-0.5934144222733819,-0.22800671870639302,-1.4913389670454331,-0.9457299384571953,3.0139111647972934,-2.105842670440707,0.9855907931666049,3.9245892431708693,0.005233919648687987,0.3283738120911214,2.3230566563448427,1.5768299519718418,0.777669115245924,0.8890395652341111,-0.06419300933085173,1.3244881642169408,-2.2056334532941957,-0.8246512325074676,-0.6145498942171582,-0.141541284557601,-0.5418980315732563,-0.4078317464316303,-0.48433858436228444,-2.538093228040121,2.013587307983437,1.9651393293027757,-1.687262712323792,-0.35996921942073545,1.2112306223327722,0.10797823379639723,2.461343398937345,-0.9613186004345424,0.6476280651490928,2.362236007646672,-1.059618210825482,-0.18006840255824635,-0.1786809252637283,-2.0830615971813686,0.2165139627537188,-0.682106498984894,-0.8207453853280433,-1.3081921519390158,0.06163991467836142,0.019160295022200572,1.5301935568241707,-1.1951612218940855,-0.8837577436102044,-0.8070355603668269,1.5872045205602718,-0.4630181906402604,0.5594053013866566,3.686134855477744,-0.7818674438754649,-1.375881216514397,1.4623221079786726,0.9559276724614995,-1.4754343583586462,0.4602869563432024,-2.0794247565422816,0.6015480350304688,1.5284964949192599,-4.085328585043701,-1.5523916363406176,2.0750779314273204,0.30534253851893833,1.4687640790557313,0.029803544527416743,3.068312646833857,1.3091465557801962,2.06773470707321,3.137088096389071,0.4295320107299546,1.8701610206571304,-0.3090949637297293,1.4267669899253244,0.9847771440328925,0.5912350004627684,3.6529175645871326,1.6927404704624907,-1.4206849901560412,-0.655763213613508,-1.1434057170653023,-0.45693408527250373,-1.5277976407321427,1.3878715838869875,-1.9843702205653233,2.6503035381005504,-2.962571512042989,-1.4280500105081029,-1.0667485762234215,3.680168246080092,-1.4933079721182467,-2.3246206623017924,-0.17065316706041042,2.014609454533588,-1.4172936743878448,-0.1423042980946436],\"x\":[1.8542530766127379,-1.8076410826502602,1.9860618556376786,2.2364752354941686,-0.22595440089894928,2.6918519545337305,3.6077198499491474,-0.1689627385341052,-0.5322057713121356,0.7062125184368364,2.8580953795484954,1.7439464981901045,0.3125897483250364,3.743005351449701,2.2753733790827715,3.554393131536692,3.4781021343705527,1.1584808133121043,1.67055964927074,2.501028222334854,0.1381708183050937,0.7122044541414564,-2.289178578760641,0.9380208093297916,-1.1392003299429487,-1.711686191695527,2.0476028130894264,1.8436242697981968,0.6385473338751941,-0.254161882929942,3.558088688773335,-2.3311928626037357,0.1128722085348628,0.25495619759293003,2.1804272588795697,1.8975579527402024,3.1320993433484046,-1.8171468163421232,3.8030886926532124,1.8598994690942046,1.6901045282772202,2.7122563716588575,1.4098100130091358,1.0993093756436487,1.6610321021577537,-0.8225768287862186,3.9923891395381332,2.8879205126305343,-1.7340533048783802,0.028900837152519374,-4.891158098754477,2.845062276777231,1.144895697245937,0.5060983672186198,1.9451968582499248,-0.5045633033910542,1.2684826008924306,2.149455056495188,1.3041654937300546,0.02247307868700643,3.8999277685141656,3.1623171751263675,1.0334820919450725,-1.1675049174783885,2.8750546670070967,3.373752785926037,-2.856208312411187,-0.7333229084566096,3.8932451539294033,3.5160608662299566,0.8007652885063933,0.04826171396438514,0.6918030813087184,3.397541200678081,3.114922128661589,2.9618852872561736,1.6344482233665412,3.5590360858413788,1.8336783336405305,2.9428962510120202,3.049503367511847,-0.17106259426891585,0.5401115638516817,2.164159201225077,2.3379030689207094,3.704237843741699,1.3506688231220874,-0.781834473393338,2.8361463012911674,-0.27304101442862827,-3.1035321222066456,0.3031569937829661,-1.8850342920570147,3.866161860996131,-0.08328905955741545,2.0254324134119934,-1.119188501840502,2.2748950666633374,3.3647274503074263,1.6123171587893614,2.862374279848633,3.825097198696595,-0.2775609250588385,-0.4798718640088922,-1.091287631124928,-1.4609912441736372,-3.091210020526713,-1.9016541412894952,-1.8695490141928386,-1.024544652394402,-2.157741840292357,-3.2182173444789552,2.2994629486458558,0.04766788435424146,2.0555305605332173,0.7728342364571004,2.7551495241305153,-1.3380581709084662,-2.7329702003597593,2.1209620069763035,2.9111450361598115,1.3619619067708923,0.7102878781058946,3.232479593994617,3.0575396463981233,3.611233588994883,1.9241525768898335,2.8483656902787917,-0.6037877554260133,-0.5512438353147224,0.7205798218439784,3.63566261106703,1.7623590454016538,1.2401635952068963,2.8953338549592766,1.6664796206220855,-0.248182025950414,0.031799231204797634,-2.0030428331176946,0.27828460284684675,0.804722462576601,-0.6969058652513332,-1.3569586322597573,-0.3286322819897116,0.18929962346579918,0.42769993072228585,2.0541739897372913,-2.546477002033469,0.08280397760843439,2.670629835888429,0.37449263397698535,2.631763995774825,-2.1100072859941323,-0.40118639107373566,0.5738003822783383,2.2565559066419865,2.6874886552650556,2.780163634640932,-0.23574835165528837,-0.6976049204987755,-1.9686561585949567,-0.5681115932861698,0.23280538145471064,-1.7172479571853374,2.8041661620911515,0.1667418960667545,-1.4107773074281775,-0.1274836218159753,-0.17001774318693402,-1.601534176069376,-1.8905474379727023,-0.40073318897787186,-1.6446267970697188,1.370396791447423,1.9371659982372895,-1.8183759397960593,-1.6513924003523839,-0.9021514885364496,-2.091623392099853,1.2158970176953525,1.0186103568969453,-1.9648547574682753,0.22159348178122373,-0.10683992358568511,-0.24469304394577443,-1.2613885025425382,-0.33894103609863874,-2.936104831207984,-2.9485668402420018,-1.9320743118004517,-0.20586225308609343,-1.2844503170176729,0.05489878884047725,-2.212548852352603,0.8666407254403912,-2.6041434473403413,-2.398586337247941,-1.485217062274898,-2.273219750728683,-2.5971905446362604,-3.03822759151577,-1.1847277664127138,-0.715406328109884,-1.6846249277993652,-1.667236517342107,-0.8257861099208075,-2.0202849601301414,-2.1591186577312818,-4.4115000150028045,-1.4380848710959975,0.31600138968610597,1.1427237237082382,-1.9423216929837788,-1.506206743445714,-2.2858945225998757,-2.245860790577434,-0.8645429090716049,-1.5452629550439076,-3.099558829522731,-1.4078698534550715,-1.2625467133456962,0.03023428789379685,-1.2473587187306392,2.3234804912375893,-1.0197659070315919,-2.5421695873297785,-1.2472444704363808,-0.3458318110207888,-2.598707557665881,0.5067077614805904,0.877529381759772,-2.440025794155836,2.100114943158815,-0.5385861761683811,-1.6034531878694476,-4.303864008572892,0.6261324355682757,-2.1533239219361966,-1.300863929561306,-0.9017060844517193,-1.8264151032132925,0.987176866554135,-0.32151563769561675,-1.5118320381724426,0.5634107996631342,-0.05605797403116521,0.2359564303362961,-1.8696071676782087,-0.8225261619035791,-2.552598749202141,0.6384520692307399,0.48325969971344857,-1.5138472082124093,-1.3547685791855755,-2.3176133049257825,-1.3811558190072715,0.1532686888855521,-0.6177468182521406,-1.0788268343399627,0.8825625244258396,0.18953293579567634,-1.3033736309704966,0.20680075529962005,0.9777562938133434,-1.077088947089333,1.5546274288428774,-1.4635037642963167,-2.0622202235127403,-2.7629642171204147,-0.05733904028342458,-1.2071471145504244,1.7725005329011985,-2.039377573641424,-0.7641813860877413,-2.9885091261589327,-3.272646997800869,-1.7489037554841393,-0.0709561344185389,-1.9602692512551896,-2.550436655904649,-3.6935679704371442,-0.86344461859411,1.1477087333932854,-0.5212749232881555,-2.3796454748065616,-0.9658318166245405,-2.530349746347865,0.5689413043643282,-2.168431603206991,-0.8078296538637608,-3.733653864752909,0.03270123188600986,0.08306792186188534,-1.531174767493999,-0.9070225830303329,0.15015839569192505,1.2589721505329514,0.7775648131755591,0.07840482048255738,-0.10563130766826163,2.2726684528244046,2.568969507135091,0.47611910791231304,-0.7501510563549867,-0.8094141157078846,-2.393122875432326,0.9724320309775053,-0.3323481959375705,-0.57589049185376,1.0316569589169116,2.3776652277892936,-1.654885768238816,-0.8036665478209275,-2.250798113770969,0.7300529240724041,-2.407995853801857,-1.3016903502090515,-0.857479219166375,-0.2333976487548286,-1.2512213323605939,-3.2863726517049323,-1.1563895552567003,-1.4747538936676818,0.05949040102288903,-2.2734557074446715,1.1497158204122444,-0.8066434772315546,-0.8717667408983802,-0.8099504006758325,-1.893584662406767,-0.7021634083790068,-0.2628925863690822,-2.2657997149870535,-3.633055190473839,-4.812509147547633,-2.281257836441665,-0.9332707577658848,-1.9026085110030009,-0.5521621973378569,-1.9003545103901318,0.6798295874041372,-0.21198418017596285,-1.3463788233257623,0.2858331636164295,-1.9783015004097801,-1.1296278114055356,-1.3542693844905638,-0.3132265951551088,-3.059033551495173,-1.3032743163278504,-3.1237223866434487,-1.6391420458521866,-2.2643630881131522,-3.1196795341065324,0.5764859089792197,-2.2021829435048725,-1.1566485711576902,-2.2643326847234055,-2.262207119627764,-3.017960339176891,-1.1195253201102218,-1.5309556353356348,-2.2158553492445336,-1.9108946533068731,-0.27046300408993434,-2.507243532490933,-1.9204804134335935,-2.6928010960322815,-2.1618029738042925,-2.941735754725193,-2.951648567126781,-3.8123615556325796,-2.0059946943474776,-0.8310405599047369,-0.8196910842032288,-1.7283112334256256,-0.7791442567716336,-1.0769406803531414,-1.1978755834860755,-1.496591098243059,-1.9371501794777055,-0.5840099095877618,-0.8058070444274277,-0.6380077412368023,-0.8916950172676494,-0.11696180200249078,-2.914782406798571,-2.2234823716951215,-2.3003216513345985,-2.4386264868320002,-2.2680488921009623,-2.9881821335896817,-1.5501057854472995,-0.9638655320375472,-1.9839590688299906,0.8669358750497049,-0.968503980261162,-1.5757819574311769,0.03126847310987855,-1.8373912928360971,-0.37765072235046787,-2.33809380562506,-1.2261800166804675,-3.4466019158104055,-2.100275695290799,-1.5018795728668832,-3.127081346103237,-0.3726282994135519,-0.3319079259234058,-3.4253147971994213,-3.1486437445071727,-3.3112923203527442,-2.8049650341015333,-2.955526850041554,-2.8464722010991883,-2.9143745974190116,-2.32353092243807,-2.627215887672909,-2.624137834664809,-1.5685903579425693,-0.569724370592473,-3.78223431439776,0.2891985441490391,-5.056605876468065,-3.444353130287003,-2.2651624062346687,0.26850534837752366,-2.0581448171302705,-1.6445585186286673,-0.973759794754581,-0.5233860840856057,-3.219290502771001,-2.2611229588520523,-2.8307797620309927,-3.3885187175385787,-1.9773920069908804,1.866670174805963,-1.9907344007049892,-2.600040299480926,-0.14334601094013807,-1.0968260147077677,-0.44283483341847996,-1.9924101923172326,-0.7381890731039115,-3.7365232619661732,-2.661288187231533,-2.1648306575845044,-1.386273251941871,-0.8789499645437495,-1.2130733303363983,-1.901649976135464,-2.679590096280587,-3.322828485671217,1.0130561573926178,-1.946176210185839,-1.2408893720633474,-3.0280738264035842,-1.632747412291872,-0.7053430862150605,-5.2019799967233356,-1.1247427640801124,-3.90626069201284,-0.8470890672248289,-2.824031329460838,-1.2446880628587766,-0.9902289644442782,-2.428783429836972,-1.262920943966572]},\"selected\":{\"id\":\"1127\",\"type\":\"Selection\"},\"selection_policy\":{\"id\":\"1128\",\"type\":\"UnionRenderers\"}},\"id\":\"1111\",\"type\":\"ColumnDataSource\"},{\"attributes\":{\"callback\":null},\"id\":\"1080\",\"type\":\"DataRange1d\"},{\"attributes\":{},\"id\":\"1101\",\"type\":\"ResetTool\"},{\"attributes\":{},\"id\":\"1099\",\"type\":\"WheelZoomTool\"},{\"attributes\":{\"formatter\":{\"id\":\"1123\",\"type\":\"BasicTickFormatter\"},\"ticker\":{\"id\":\"1094\",\"type\":\"BasicTicker\"}},\"id\":\"1093\",\"type\":\"LinearAxis\"},{\"attributes\":{\"callback\":null},\"id\":\"1082\",\"type\":\"DataRange1d\"},{\"attributes\":{},\"id\":\"1094\",\"type\":\"BasicTicker\"},{\"attributes\":{},\"id\":\"1098\",\"type\":\"PanTool\"},{\"attributes\":{},\"id\":\"1086\",\"type\":\"LinearScale\"},{\"attributes\":{\"source\":{\"id\":\"1111\",\"type\":\"ColumnDataSource\"}},\"id\":\"1113\",\"type\":\"CDSView\"},{\"attributes\":{\"dimension\":1,\"ticker\":{\"id\":\"1094\",\"type\":\"BasicTicker\"}},\"id\":\"1097\",\"type\":\"Grid\"},{\"attributes\":{},\"id\":\"1127\",\"type\":\"Selection\"},{\"attributes\":{\"callback\":null,\"tooltips\":[[\"(x,y)\",\"(@x,@top)\"]]},\"id\":\"1107\",\"type\":\"HoverTool\"},{\"attributes\":{\"data_source\":{\"id\":\"1111\",\"type\":\"ColumnDataSource\"},\"glyph\":{\"id\":\"1110\",\"type\":\"Circle\"},\"hover_glyph\":null,\"muted_glyph\":null,\"view\":{\"id\":\"1113\",\"type\":\"CDSView\"}},\"id\":\"1112\",\"type\":\"GlyphRenderer\"}],\"root_ids\":[\"1078\"]},\"title\":\"Bokeh Application\",\"version\":\"1.1.0\"}};\n",
       "  var render_items = [{\"docid\":\"f2fc4830-407f-4b1e-a293-b4c4d6b15223\",\"notebook_comms_target\":\"1129\",\"roots\":{\"1078\":\"fb9e189a-e7ec-406f-9534-dc5aad28d98b\"}}];\n",
       "  root.Bokeh.embed.embed_items_notebook(docs_json, render_items);\n",
       "\n",
       "  }\n",
       "  if (root.Bokeh !== undefined) {\n",
       "    embed_document(root);\n",
       "  } else {\n",
       "    var attempts = 0;\n",
       "    var timer = setInterval(function(root) {\n",
       "      if (root.Bokeh !== undefined) {\n",
       "        embed_document(root);\n",
       "        clearInterval(timer);\n",
       "      }\n",
       "      attempts++;\n",
       "      if (attempts > 100) {\n",
       "        console.log(\"Bokeh: ERROR: Unable to run BokehJS code because BokehJS library is missing\");\n",
       "        clearInterval(timer);\n",
       "      }\n",
       "    }, 10, root)\n",
       "  }\n",
       "})(window);"
      ],
      "application/vnd.bokehjs_exec.v0+json": ""
     },
     "metadata": {
      "application/vnd.bokehjs_exec.v0+json": {
       "id": "1078"
      }
     },
     "output_type": "display_data"
    }
   ],
   "source": [
    "contestPlot()"
   ]
  },
  {
   "cell_type": "code",
   "execution_count": null,
   "metadata": {},
   "outputs": [],
   "source": [
    "leftSide()"
   ]
  },
  {
   "cell_type": "code",
   "execution_count": 8,
   "metadata": {
    "scrolled": true
   },
   "outputs": [],
   "source": [
    "#df, pcaObject = pca(dataframe)"
   ]
  },
  {
   "cell_type": "code",
   "execution_count": 9,
   "metadata": {
    "scrolled": false
   },
   "outputs": [],
   "source": [
    "#displayPlot(df, groupByLabel=False )"
   ]
  },
  {
   "cell_type": "code",
   "execution_count": 10,
   "metadata": {
    "scrolled": true
   },
   "outputs": [],
   "source": [
    "# print(\"The amount of variance explained by each of the selected components.\")\n",
    "# print(str(pcaObject.explained_variance_)+ str(\"\\n\"))\n",
    "\n",
    "# print(\"Percentage of variance explained by each of the selected components.\")\n",
    "# print(str(pcaObject.explained_variance_ratio_)+ str(\"\\n\"))\n",
    "\n",
    "# print(\"Principal axes in feature space, representing the directions of maximum variance in the data. The components are sorted by explained_variance_.\")\n",
    "# print(str(pcaObject.components_)+ str(\"\\n\"))"
   ]
  },
  {
   "cell_type": "code",
   "execution_count": null,
   "metadata": {},
   "outputs": [],
   "source": []
  },
  {
   "cell_type": "code",
   "execution_count": null,
   "metadata": {},
   "outputs": [],
   "source": []
  },
  {
   "cell_type": "code",
   "execution_count": null,
   "metadata": {},
   "outputs": [],
   "source": []
  }
 ],
 "metadata": {
  "kernelspec": {
   "display_name": "Python 3",
   "language": "python",
   "name": "python3"
  },
  "language_info": {
   "codemirror_mode": {
    "name": "ipython",
    "version": 3
   },
   "file_extension": ".py",
   "mimetype": "text/x-python",
   "name": "python",
   "nbconvert_exporter": "python",
   "pygments_lexer": "ipython3",
   "version": "3.7.3"
  },
  "widgets": {
   "application/vnd.jupyter.widget-state+json": {
    "state": {},
    "version_major": 2,
    "version_minor": 0
   }
  }
 },
 "nbformat": 4,
 "nbformat_minor": 2
}
