{
 "cells": [
  {
   "cell_type": "code",
   "execution_count": 1,
   "metadata": {
    "scrolled": false
   },
   "outputs": [
    {
     "data": {
      "text/html": [
       "\n",
       "    <div class=\"bk-root\">\n",
       "        <a href=\"http://bokeh.pydata.org\" target=\"_blank\" class=\"bk-logo bk-logo-small bk-logo-notebook\"></a>\n",
       "        <span id=\"3ebe444d-8005-4ac4-978c-ca23e87f43d7\">Loading BokehJS ...</span>\n",
       "    </div>"
      ]
     },
     "metadata": {},
     "output_type": "display_data"
    },
    {
     "data": {
      "application/javascript": [
       "\n",
       "(function(global) {\n",
       "  function now() {\n",
       "    return new Date();\n",
       "  }\n",
       "\n",
       "  var force = true;\n",
       "\n",
       "  if (typeof (window._bokeh_onload_callbacks) === \"undefined\" || force === true) {\n",
       "    window._bokeh_onload_callbacks = [];\n",
       "    window._bokeh_is_loading = undefined;\n",
       "  }\n",
       "\n",
       "\n",
       "  \n",
       "  if (typeof (window._bokeh_timeout) === \"undefined\" || force === true) {\n",
       "    window._bokeh_timeout = Date.now() + 5000;\n",
       "    window._bokeh_failed_load = false;\n",
       "  }\n",
       "\n",
       "  var NB_LOAD_WARNING = {'data': {'text/html':\n",
       "     \"<div style='background-color: #fdd'>\\n\"+\n",
       "     \"<p>\\n\"+\n",
       "     \"BokehJS does not appear to have successfully loaded. If loading BokehJS from CDN, this \\n\"+\n",
       "     \"may be due to a slow or bad network connection. Possible fixes:\\n\"+\n",
       "     \"</p>\\n\"+\n",
       "     \"<ul>\\n\"+\n",
       "     \"<li>re-rerun `output_notebook()` to attempt to load from CDN again, or</li>\\n\"+\n",
       "     \"<li>use INLINE resources instead, as so:</li>\\n\"+\n",
       "     \"</ul>\\n\"+\n",
       "     \"<code>\\n\"+\n",
       "     \"from bokeh.resources import INLINE\\n\"+\n",
       "     \"output_notebook(resources=INLINE)\\n\"+\n",
       "     \"</code>\\n\"+\n",
       "     \"</div>\"}};\n",
       "\n",
       "  function display_loaded() {\n",
       "    if (window.Bokeh !== undefined) {\n",
       "      var el = document.getElementById(\"3ebe444d-8005-4ac4-978c-ca23e87f43d7\");\n",
       "      el.textContent = \"BokehJS \" + Bokeh.version + \" successfully loaded.\";\n",
       "    } else if (Date.now() < window._bokeh_timeout) {\n",
       "      setTimeout(display_loaded, 100)\n",
       "    }\n",
       "  }\n",
       "\n",
       "  function run_callbacks() {\n",
       "    window._bokeh_onload_callbacks.forEach(function(callback) { callback() });\n",
       "    delete window._bokeh_onload_callbacks\n",
       "    console.info(\"Bokeh: all callbacks have finished\");\n",
       "  }\n",
       "\n",
       "  function load_libs(js_urls, callback) {\n",
       "    window._bokeh_onload_callbacks.push(callback);\n",
       "    if (window._bokeh_is_loading > 0) {\n",
       "      console.log(\"Bokeh: BokehJS is being loaded, scheduling callback at\", now());\n",
       "      return null;\n",
       "    }\n",
       "    if (js_urls == null || js_urls.length === 0) {\n",
       "      run_callbacks();\n",
       "      return null;\n",
       "    }\n",
       "    console.log(\"Bokeh: BokehJS not loaded, scheduling load and callback at\", now());\n",
       "    window._bokeh_is_loading = js_urls.length;\n",
       "    for (var i = 0; i < js_urls.length; i++) {\n",
       "      var url = js_urls[i];\n",
       "      var s = document.createElement('script');\n",
       "      s.src = url;\n",
       "      s.async = false;\n",
       "      s.onreadystatechange = s.onload = function() {\n",
       "        window._bokeh_is_loading--;\n",
       "        if (window._bokeh_is_loading === 0) {\n",
       "          console.log(\"Bokeh: all BokehJS libraries loaded\");\n",
       "          run_callbacks()\n",
       "        }\n",
       "      };\n",
       "      s.onerror = function() {\n",
       "        console.warn(\"failed to load library \" + url);\n",
       "      };\n",
       "      console.log(\"Bokeh: injecting script tag for BokehJS library: \", url);\n",
       "      document.getElementsByTagName(\"head\")[0].appendChild(s);\n",
       "    }\n",
       "  };var element = document.getElementById(\"3ebe444d-8005-4ac4-978c-ca23e87f43d7\");\n",
       "  if (element == null) {\n",
       "    console.log(\"Bokeh: ERROR: autoload.js configured with elementid '3ebe444d-8005-4ac4-978c-ca23e87f43d7' but no matching script tag was found. \")\n",
       "    return false;\n",
       "  }\n",
       "\n",
       "  var js_urls = [\"https://cdn.pydata.org/bokeh/release/bokeh-0.12.5.min.js\", \"https://cdn.pydata.org/bokeh/release/bokeh-widgets-0.12.5.min.js\"];\n",
       "\n",
       "  var inline_js = [\n",
       "    function(Bokeh) {\n",
       "      Bokeh.set_log_level(\"info\");\n",
       "    },\n",
       "    \n",
       "    function(Bokeh) {\n",
       "      \n",
       "    },\n",
       "    \n",
       "    function(Bokeh) {\n",
       "      \n",
       "      document.getElementById(\"3ebe444d-8005-4ac4-978c-ca23e87f43d7\").textContent = \"BokehJS is loading...\";\n",
       "    },\n",
       "    function(Bokeh) {\n",
       "      console.log(\"Bokeh: injecting CSS: https://cdn.pydata.org/bokeh/release/bokeh-0.12.5.min.css\");\n",
       "      Bokeh.embed.inject_css(\"https://cdn.pydata.org/bokeh/release/bokeh-0.12.5.min.css\");\n",
       "      console.log(\"Bokeh: injecting CSS: https://cdn.pydata.org/bokeh/release/bokeh-widgets-0.12.5.min.css\");\n",
       "      Bokeh.embed.inject_css(\"https://cdn.pydata.org/bokeh/release/bokeh-widgets-0.12.5.min.css\");\n",
       "    }\n",
       "  ];\n",
       "\n",
       "  function run_inline_js() {\n",
       "    \n",
       "    if ((window.Bokeh !== undefined) || (force === true)) {\n",
       "      for (var i = 0; i < inline_js.length; i++) {\n",
       "        inline_js[i](window.Bokeh);\n",
       "      }if (force === true) {\n",
       "        display_loaded();\n",
       "      }} else if (Date.now() < window._bokeh_timeout) {\n",
       "      setTimeout(run_inline_js, 100);\n",
       "    } else if (!window._bokeh_failed_load) {\n",
       "      console.log(\"Bokeh: BokehJS failed to load within specified timeout.\");\n",
       "      window._bokeh_failed_load = true;\n",
       "    } else if (force !== true) {\n",
       "      var cell = $(document.getElementById(\"3ebe444d-8005-4ac4-978c-ca23e87f43d7\")).parents('.cell').data().cell;\n",
       "      cell.output_area.append_execute_result(NB_LOAD_WARNING)\n",
       "    }\n",
       "\n",
       "  }\n",
       "\n",
       "  if (window._bokeh_is_loading === 0) {\n",
       "    console.log(\"Bokeh: BokehJS loaded, going straight to plotting\");\n",
       "    run_inline_js();\n",
       "  } else {\n",
       "    load_libs(js_urls, function() {\n",
       "      console.log(\"Bokeh: BokehJS plotting callback run at\", now());\n",
       "      run_inline_js();\n",
       "    });\n",
       "  }\n",
       "}(this));"
      ]
     },
     "metadata": {},
     "output_type": "display_data"
    },
    {
     "name": "stdout",
     "output_type": "stream",
     "text": [
      "end main.py\n"
     ]
    }
   ],
   "source": [
    "%run main.py"
   ]
  },
  {
   "cell_type": "code",
   "execution_count": 2,
   "metadata": {
    "scrolled": false
   },
   "outputs": [
    {
     "data": {
      "application/vnd.jupyter.widget-view+json": {
       "model_id": "4c1fea55b0cd476dae5f05ad786ede01"
      }
     },
     "metadata": {},
     "output_type": "display_data"
    },
    {
     "data": {
      "text/html": [
       "\n",
       "\n",
       "    <div class=\"bk-root\">\n",
       "        <div class=\"bk-plotdiv\" id=\"e93f50ff-d23d-44d6-8784-6e6f20adf93a\"></div>\n",
       "    </div>\n",
       "<script type=\"text/javascript\">\n",
       "  \n",
       "  (function(global) {\n",
       "    function now() {\n",
       "      return new Date();\n",
       "    }\n",
       "  \n",
       "    var force = false;\n",
       "  \n",
       "    if (typeof (window._bokeh_onload_callbacks) === \"undefined\" || force === true) {\n",
       "      window._bokeh_onload_callbacks = [];\n",
       "      window._bokeh_is_loading = undefined;\n",
       "    }\n",
       "  \n",
       "  \n",
       "    \n",
       "    if (typeof (window._bokeh_timeout) === \"undefined\" || force === true) {\n",
       "      window._bokeh_timeout = Date.now() + 0;\n",
       "      window._bokeh_failed_load = false;\n",
       "    }\n",
       "  \n",
       "    var NB_LOAD_WARNING = {'data': {'text/html':\n",
       "       \"<div style='background-color: #fdd'>\\n\"+\n",
       "       \"<p>\\n\"+\n",
       "       \"BokehJS does not appear to have successfully loaded. If loading BokehJS from CDN, this \\n\"+\n",
       "       \"may be due to a slow or bad network connection. Possible fixes:\\n\"+\n",
       "       \"</p>\\n\"+\n",
       "       \"<ul>\\n\"+\n",
       "       \"<li>re-rerun `output_notebook()` to attempt to load from CDN again, or</li>\\n\"+\n",
       "       \"<li>use INLINE resources instead, as so:</li>\\n\"+\n",
       "       \"</ul>\\n\"+\n",
       "       \"<code>\\n\"+\n",
       "       \"from bokeh.resources import INLINE\\n\"+\n",
       "       \"output_notebook(resources=INLINE)\\n\"+\n",
       "       \"</code>\\n\"+\n",
       "       \"</div>\"}};\n",
       "  \n",
       "    function display_loaded() {\n",
       "      if (window.Bokeh !== undefined) {\n",
       "        var el = document.getElementById(\"e93f50ff-d23d-44d6-8784-6e6f20adf93a\");\n",
       "        el.textContent = \"BokehJS \" + Bokeh.version + \" successfully loaded.\";\n",
       "      } else if (Date.now() < window._bokeh_timeout) {\n",
       "        setTimeout(display_loaded, 100)\n",
       "      }\n",
       "    }if ((window.Jupyter !== undefined) && Jupyter.notebook.kernel) {\n",
       "      comm_manager = Jupyter.notebook.kernel.comm_manager\n",
       "      comm_manager.register_target(\"c2e0c6aa-8a6d-416c-8c42-50ae33f4b45f\", function () {});\n",
       "    }\n",
       "  \n",
       "    function run_callbacks() {\n",
       "      window._bokeh_onload_callbacks.forEach(function(callback) { callback() });\n",
       "      delete window._bokeh_onload_callbacks\n",
       "      console.info(\"Bokeh: all callbacks have finished\");\n",
       "    }\n",
       "  \n",
       "    function load_libs(js_urls, callback) {\n",
       "      window._bokeh_onload_callbacks.push(callback);\n",
       "      if (window._bokeh_is_loading > 0) {\n",
       "        console.log(\"Bokeh: BokehJS is being loaded, scheduling callback at\", now());\n",
       "        return null;\n",
       "      }\n",
       "      if (js_urls == null || js_urls.length === 0) {\n",
       "        run_callbacks();\n",
       "        return null;\n",
       "      }\n",
       "      console.log(\"Bokeh: BokehJS not loaded, scheduling load and callback at\", now());\n",
       "      window._bokeh_is_loading = js_urls.length;\n",
       "      for (var i = 0; i < js_urls.length; i++) {\n",
       "        var url = js_urls[i];\n",
       "        var s = document.createElement('script');\n",
       "        s.src = url;\n",
       "        s.async = false;\n",
       "        s.onreadystatechange = s.onload = function() {\n",
       "          window._bokeh_is_loading--;\n",
       "          if (window._bokeh_is_loading === 0) {\n",
       "            console.log(\"Bokeh: all BokehJS libraries loaded\");\n",
       "            run_callbacks()\n",
       "          }\n",
       "        };\n",
       "        s.onerror = function() {\n",
       "          console.warn(\"failed to load library \" + url);\n",
       "        };\n",
       "        console.log(\"Bokeh: injecting script tag for BokehJS library: \", url);\n",
       "        document.getElementsByTagName(\"head\")[0].appendChild(s);\n",
       "      }\n",
       "    };var element = document.getElementById(\"e93f50ff-d23d-44d6-8784-6e6f20adf93a\");\n",
       "    if (element == null) {\n",
       "      console.log(\"Bokeh: ERROR: autoload.js configured with elementid 'e93f50ff-d23d-44d6-8784-6e6f20adf93a' but no matching script tag was found. \")\n",
       "      return false;\n",
       "    }\n",
       "  \n",
       "    var js_urls = [];\n",
       "  \n",
       "    var inline_js = [\n",
       "      function(Bokeh) {\n",
       "        (function() {\n",
       "          var fn = function() {\n",
       "            var docs_json = {\"3a363489-de04-44c7-a361-a6c2e058a655\":{\"roots\":{\"references\":[{\"attributes\":{\"callback\":null,\"column_names\":[\"x\",\"top\",\"bottom\"],\"data\":{\"bottom\":[932.25,414.75,70.0,58.0,932.25,56.0],\"top\":[1266.5,545.5,95.0,90.5,1266.5,98.0],\"x\":[\"CID\",\"DVD\",\"Fisher\",\"MTX\",\"new\",\"SWBD\"]}},\"id\":\"38e05eb5-05e8-4da2-97eb-c0bae5a0734d\",\"type\":\"ColumnDataSource\"},{\"attributes\":{\"data_source\":{\"id\":\"4ccbecbd-5fb4-45f0-92f2-19eaa20e98e4\",\"type\":\"ColumnDataSource\"},\"glyph\":{\"id\":\"a8bbc82b-a02e-4c51-8d16-15af72ef9a79\",\"type\":\"VBar\"},\"hover_glyph\":null,\"muted_glyph\":null},\"id\":\"138f0b95-dad0-4052-8e88-98f230e46353\",\"type\":\"GlyphRenderer\"},{\"attributes\":{\"formatter\":{\"id\":\"3ac36c23-686e-4b29-a92e-5dd7f6256dba\",\"type\":\"BasicTickFormatter\"},\"plot\":{\"id\":\"2b9153fe-0090-4581-a394-e128f92121fd\",\"subtype\":\"Figure\",\"type\":\"Plot\"},\"ticker\":{\"id\":\"1824c3bd-3665-4d2d-b3cd-32fadde1601f\",\"type\":\"BasicTicker\"}},\"id\":\"8abf278a-be60-4a87-91c4-b4004a291b40\",\"type\":\"LinearAxis\"},{\"attributes\":{},\"id\":\"f050cf57-969e-4907-9f99-c8e81d949bb7\",\"type\":\"ToolEvents\"},{\"attributes\":{\"active_drag\":\"auto\",\"active_scroll\":\"auto\",\"active_tap\":\"auto\"},\"id\":\"1c6e033c-a912-459a-8b95-bf15cd0e27bb\",\"type\":\"Toolbar\"},{\"attributes\":{\"data_source\":{\"id\":\"38e05eb5-05e8-4da2-97eb-c0bae5a0734d\",\"type\":\"ColumnDataSource\"},\"glyph\":{\"id\":\"4bf64d74-9974-40dc-9475-d2903e489a58\",\"type\":\"VBar\"},\"hover_glyph\":null,\"muted_glyph\":null},\"id\":\"13e3d9a3-870e-4feb-8be6-2bc4b4a8b6af\",\"type\":\"GlyphRenderer\"},{\"attributes\":{},\"id\":\"ee5c806f-509f-4d1f-921e-67f1b654117b\",\"type\":\"CategoricalTickFormatter\"},{\"attributes\":{\"callback\":null,\"column_names\":[\"x\",\"top\",\"bottom\"],\"data\":{\"bottom\":[751,394,2,15,751,4],\"top\":[1424,670,163,116,1424,229],\"x\":[\"CID\",\"DVD\",\"Fisher\",\"MTX\",\"new\",\"SWBD\"]}},\"id\":\"4ccbecbd-5fb4-45f0-92f2-19eaa20e98e4\",\"type\":\"ColumnDataSource\"},{\"attributes\":{\"formatter\":{\"id\":\"ee5c806f-509f-4d1f-921e-67f1b654117b\",\"type\":\"CategoricalTickFormatter\"},\"plot\":{\"id\":\"2b9153fe-0090-4581-a394-e128f92121fd\",\"subtype\":\"Figure\",\"type\":\"Plot\"},\"ticker\":{\"id\":\"0b3280ff-8813-4ac0-98d8-76396813100d\",\"type\":\"CategoricalTicker\"}},\"id\":\"e4e69c55-6d6f-4d17-bd6f-5871a3023c94\",\"type\":\"CategoricalAxis\"},{\"attributes\":{},\"id\":\"1824c3bd-3665-4d2d-b3cd-32fadde1601f\",\"type\":\"BasicTicker\"},{\"attributes\":{\"bottom\":{\"field\":\"bottom\"},\"fill_color\":{\"value\":\"#3AC0C3\"},\"top\":{\"field\":\"top\"},\"width\":{\"value\":0.2},\"x\":{\"field\":\"x\"}},\"id\":\"4bf64d74-9974-40dc-9475-d2903e489a58\",\"type\":\"VBar\"},{\"attributes\":{\"dimension\":1,\"plot\":{\"id\":\"2b9153fe-0090-4581-a394-e128f92121fd\",\"subtype\":\"Figure\",\"type\":\"Plot\"},\"ticker\":{\"id\":\"1824c3bd-3665-4d2d-b3cd-32fadde1601f\",\"type\":\"BasicTicker\"}},\"id\":\"ccd5ca75-c871-4f88-968f-04ec3951e7d1\",\"type\":\"Grid\"},{\"attributes\":{},\"id\":\"0b3280ff-8813-4ac0-98d8-76396813100d\",\"type\":\"CategoricalTicker\"},{\"attributes\":{},\"id\":\"3ac36c23-686e-4b29-a92e-5dd7f6256dba\",\"type\":\"BasicTickFormatter\"},{\"attributes\":{\"plot\":{\"id\":\"2b9153fe-0090-4581-a394-e128f92121fd\",\"subtype\":\"Figure\",\"type\":\"Plot\"},\"ticker\":{\"id\":\"0b3280ff-8813-4ac0-98d8-76396813100d\",\"type\":\"CategoricalTicker\"}},\"id\":\"0bfd6e95-9142-47b5-b6ba-5c1d3ae2f35c\",\"type\":\"Grid\"},{\"attributes\":{\"callback\":null,\"factors\":[\"MTX\",\"Fisher\",\"CID\",\"SWBD\",\"DVD\",\"new\"]},\"id\":\"56778291-1d72-473a-ba2b-866ff4241ec5\",\"type\":\"FactorRange\"},{\"attributes\":{\"below\":[{\"id\":\"e4e69c55-6d6f-4d17-bd6f-5871a3023c94\",\"type\":\"CategoricalAxis\"}],\"left\":[{\"id\":\"8abf278a-be60-4a87-91c4-b4004a291b40\",\"type\":\"LinearAxis\"}],\"renderers\":[{\"id\":\"e4e69c55-6d6f-4d17-bd6f-5871a3023c94\",\"type\":\"CategoricalAxis\"},{\"id\":\"0bfd6e95-9142-47b5-b6ba-5c1d3ae2f35c\",\"type\":\"Grid\"},{\"id\":\"8abf278a-be60-4a87-91c4-b4004a291b40\",\"type\":\"LinearAxis\"},{\"id\":\"ccd5ca75-c871-4f88-968f-04ec3951e7d1\",\"type\":\"Grid\"},{\"id\":\"138f0b95-dad0-4052-8e88-98f230e46353\",\"type\":\"GlyphRenderer\"},{\"id\":\"13e3d9a3-870e-4feb-8be6-2bc4b4a8b6af\",\"type\":\"GlyphRenderer\"}],\"title\":null,\"tool_events\":{\"id\":\"f050cf57-969e-4907-9f99-c8e81d949bb7\",\"type\":\"ToolEvents\"},\"toolbar\":{\"id\":\"1c6e033c-a912-459a-8b95-bf15cd0e27bb\",\"type\":\"Toolbar\"},\"x_range\":{\"id\":\"56778291-1d72-473a-ba2b-866ff4241ec5\",\"type\":\"FactorRange\"},\"y_range\":{\"id\":\"d1b1171d-7c06-4ff7-bd6c-ca95bdf8ac6b\",\"type\":\"DataRange1d\"}},\"id\":\"2b9153fe-0090-4581-a394-e128f92121fd\",\"subtype\":\"Figure\",\"type\":\"Plot\"},{\"attributes\":{\"callback\":null},\"id\":\"d1b1171d-7c06-4ff7-bd6c-ca95bdf8ac6b\",\"type\":\"DataRange1d\"},{\"attributes\":{\"bottom\":{\"field\":\"bottom\"},\"fill_color\":{\"value\":\"#000000\"},\"top\":{\"field\":\"top\"},\"width\":{\"value\":0.01},\"x\":{\"field\":\"x\"}},\"id\":\"a8bbc82b-a02e-4c51-8d16-15af72ef9a79\",\"type\":\"VBar\"}],\"root_ids\":[\"2b9153fe-0090-4581-a394-e128f92121fd\"]},\"title\":\"Bokeh Application\",\"version\":\"0.12.5\"}};\n",
       "            var render_items = [{\"docid\":\"3a363489-de04-44c7-a361-a6c2e058a655\",\"elementid\":\"e93f50ff-d23d-44d6-8784-6e6f20adf93a\",\"modelid\":\"2b9153fe-0090-4581-a394-e128f92121fd\",\"notebook_comms_target\":\"c2e0c6aa-8a6d-416c-8c42-50ae33f4b45f\"}];\n",
       "            \n",
       "            Bokeh.embed.embed_items(docs_json, render_items);\n",
       "          };\n",
       "          if (document.readyState != \"loading\") fn();\n",
       "          else document.addEventListener(\"DOMContentLoaded\", fn);\n",
       "        })();\n",
       "      },\n",
       "      function(Bokeh) {\n",
       "      }\n",
       "    ];\n",
       "  \n",
       "    function run_inline_js() {\n",
       "      \n",
       "      if ((window.Bokeh !== undefined) || (force === true)) {\n",
       "        for (var i = 0; i < inline_js.length; i++) {\n",
       "          inline_js[i](window.Bokeh);\n",
       "        }if (force === true) {\n",
       "          display_loaded();\n",
       "        }} else if (Date.now() < window._bokeh_timeout) {\n",
       "        setTimeout(run_inline_js, 100);\n",
       "      } else if (!window._bokeh_failed_load) {\n",
       "        console.log(\"Bokeh: BokehJS failed to load within specified timeout.\");\n",
       "        window._bokeh_failed_load = true;\n",
       "      } else if (force !== true) {\n",
       "        var cell = $(document.getElementById(\"e93f50ff-d23d-44d6-8784-6e6f20adf93a\")).parents('.cell').data().cell;\n",
       "        cell.output_area.append_execute_result(NB_LOAD_WARNING)\n",
       "      }\n",
       "  \n",
       "    }\n",
       "  \n",
       "    if (window._bokeh_is_loading === 0) {\n",
       "      console.log(\"Bokeh: BokehJS loaded, going straight to plotting\");\n",
       "      run_inline_js();\n",
       "    } else {\n",
       "      load_libs(js_urls, function() {\n",
       "        console.log(\"Bokeh: BokehJS plotting callback run at\", now());\n",
       "        run_inline_js();\n",
       "      });\n",
       "    }\n",
       "  }(this));\n",
       "</script>"
      ]
     },
     "metadata": {},
     "output_type": "display_data"
    }
   ],
   "source": [
    "createFirstCell()"
   ]
  },
  {
   "cell_type": "code",
   "execution_count": 3,
   "metadata": {
    "scrolled": false
   },
   "outputs": [
    {
     "data": {
      "application/vnd.jupyter.widget-view+json": {
       "model_id": "31ca42f5f3c449a8ab5f8a42c4e78a00"
      }
     },
     "metadata": {},
     "output_type": "display_data"
    },
    {
     "data": {
      "text/html": [
       "\n",
       "\n",
       "    <div class=\"bk-root\">\n",
       "        <div class=\"bk-plotdiv\" id=\"7bc3c093-f2cc-4980-93f3-fdb36c450dff\"></div>\n",
       "    </div>\n",
       "<script type=\"text/javascript\">\n",
       "  \n",
       "  (function(global) {\n",
       "    function now() {\n",
       "      return new Date();\n",
       "    }\n",
       "  \n",
       "    var force = false;\n",
       "  \n",
       "    if (typeof (window._bokeh_onload_callbacks) === \"undefined\" || force === true) {\n",
       "      window._bokeh_onload_callbacks = [];\n",
       "      window._bokeh_is_loading = undefined;\n",
       "    }\n",
       "  \n",
       "  \n",
       "    \n",
       "    if (typeof (window._bokeh_timeout) === \"undefined\" || force === true) {\n",
       "      window._bokeh_timeout = Date.now() + 0;\n",
       "      window._bokeh_failed_load = false;\n",
       "    }\n",
       "  \n",
       "    var NB_LOAD_WARNING = {'data': {'text/html':\n",
       "       \"<div style='background-color: #fdd'>\\n\"+\n",
       "       \"<p>\\n\"+\n",
       "       \"BokehJS does not appear to have successfully loaded. If loading BokehJS from CDN, this \\n\"+\n",
       "       \"may be due to a slow or bad network connection. Possible fixes:\\n\"+\n",
       "       \"</p>\\n\"+\n",
       "       \"<ul>\\n\"+\n",
       "       \"<li>re-rerun `output_notebook()` to attempt to load from CDN again, or</li>\\n\"+\n",
       "       \"<li>use INLINE resources instead, as so:</li>\\n\"+\n",
       "       \"</ul>\\n\"+\n",
       "       \"<code>\\n\"+\n",
       "       \"from bokeh.resources import INLINE\\n\"+\n",
       "       \"output_notebook(resources=INLINE)\\n\"+\n",
       "       \"</code>\\n\"+\n",
       "       \"</div>\"}};\n",
       "  \n",
       "    function display_loaded() {\n",
       "      if (window.Bokeh !== undefined) {\n",
       "        var el = document.getElementById(\"7bc3c093-f2cc-4980-93f3-fdb36c450dff\");\n",
       "        el.textContent = \"BokehJS \" + Bokeh.version + \" successfully loaded.\";\n",
       "      } else if (Date.now() < window._bokeh_timeout) {\n",
       "        setTimeout(display_loaded, 100)\n",
       "      }\n",
       "    }if ((window.Jupyter !== undefined) && Jupyter.notebook.kernel) {\n",
       "      comm_manager = Jupyter.notebook.kernel.comm_manager\n",
       "      comm_manager.register_target(\"534d877f-2072-4551-928a-5403f95f3703\", function () {});\n",
       "    }\n",
       "  \n",
       "    function run_callbacks() {\n",
       "      window._bokeh_onload_callbacks.forEach(function(callback) { callback() });\n",
       "      delete window._bokeh_onload_callbacks\n",
       "      console.info(\"Bokeh: all callbacks have finished\");\n",
       "    }\n",
       "  \n",
       "    function load_libs(js_urls, callback) {\n",
       "      window._bokeh_onload_callbacks.push(callback);\n",
       "      if (window._bokeh_is_loading > 0) {\n",
       "        console.log(\"Bokeh: BokehJS is being loaded, scheduling callback at\", now());\n",
       "        return null;\n",
       "      }\n",
       "      if (js_urls == null || js_urls.length === 0) {\n",
       "        run_callbacks();\n",
       "        return null;\n",
       "      }\n",
       "      console.log(\"Bokeh: BokehJS not loaded, scheduling load and callback at\", now());\n",
       "      window._bokeh_is_loading = js_urls.length;\n",
       "      for (var i = 0; i < js_urls.length; i++) {\n",
       "        var url = js_urls[i];\n",
       "        var s = document.createElement('script');\n",
       "        s.src = url;\n",
       "        s.async = false;\n",
       "        s.onreadystatechange = s.onload = function() {\n",
       "          window._bokeh_is_loading--;\n",
       "          if (window._bokeh_is_loading === 0) {\n",
       "            console.log(\"Bokeh: all BokehJS libraries loaded\");\n",
       "            run_callbacks()\n",
       "          }\n",
       "        };\n",
       "        s.onerror = function() {\n",
       "          console.warn(\"failed to load library \" + url);\n",
       "        };\n",
       "        console.log(\"Bokeh: injecting script tag for BokehJS library: \", url);\n",
       "        document.getElementsByTagName(\"head\")[0].appendChild(s);\n",
       "      }\n",
       "    };var element = document.getElementById(\"7bc3c093-f2cc-4980-93f3-fdb36c450dff\");\n",
       "    if (element == null) {\n",
       "      console.log(\"Bokeh: ERROR: autoload.js configured with elementid '7bc3c093-f2cc-4980-93f3-fdb36c450dff' but no matching script tag was found. \")\n",
       "      return false;\n",
       "    }\n",
       "  \n",
       "    var js_urls = [];\n",
       "  \n",
       "    var inline_js = [\n",
       "      function(Bokeh) {\n",
       "        (function() {\n",
       "          var fn = function() {\n",
       "            var docs_json = {\"ccc99caa-2538-4e63-b31a-2c8f30cce318\":{\"roots\":{\"references\":[{\"attributes\":{\"formatter\":{\"id\":\"effbbd06-222d-4214-bdf3-113b0150889c\",\"type\":\"BasicTickFormatter\"},\"plot\":{\"id\":\"f9909016-6488-4f8a-8e41-57fc7a5fdc3d\",\"subtype\":\"Figure\",\"type\":\"Plot\"},\"ticker\":{\"id\":\"173ca956-3603-4264-8770-211af40215a7\",\"type\":\"BasicTicker\"}},\"id\":\"6681ee0f-49b8-440b-bdf3-3b77926b605b\",\"type\":\"LinearAxis\"},{\"attributes\":{\"formatter\":{\"id\":\"ffcb93a1-4eea-41f5-af8a-c49fdb721442\",\"type\":\"CategoricalTickFormatter\"},\"plot\":{\"id\":\"f9909016-6488-4f8a-8e41-57fc7a5fdc3d\",\"subtype\":\"Figure\",\"type\":\"Plot\"},\"ticker\":{\"id\":\"22358cb9-c866-455b-9f98-fdf8dcd9f946\",\"type\":\"CategoricalTicker\"}},\"id\":\"03daaeb2-5c96-4732-993a-d6f965bd62ce\",\"type\":\"CategoricalAxis\"},{\"attributes\":{\"plot\":{\"id\":\"f9909016-6488-4f8a-8e41-57fc7a5fdc3d\",\"subtype\":\"Figure\",\"type\":\"Plot\"}},\"id\":\"72f2ca63-27d5-4cbf-9376-8528bbed7275\",\"type\":\"PanTool\"},{\"attributes\":{},\"id\":\"effbbd06-222d-4214-bdf3-113b0150889c\",\"type\":\"BasicTickFormatter\"},{\"attributes\":{\"plot\":{\"id\":\"f9909016-6488-4f8a-8e41-57fc7a5fdc3d\",\"subtype\":\"Figure\",\"type\":\"Plot\"},\"ticker\":{\"id\":\"22358cb9-c866-455b-9f98-fdf8dcd9f946\",\"type\":\"CategoricalTicker\"}},\"id\":\"a510295e-53c3-4306-a937-40f5e83281ec\",\"type\":\"Grid\"},{\"attributes\":{\"below\":[{\"id\":\"03daaeb2-5c96-4732-993a-d6f965bd62ce\",\"type\":\"CategoricalAxis\"}],\"left\":[{\"id\":\"6681ee0f-49b8-440b-bdf3-3b77926b605b\",\"type\":\"LinearAxis\"}],\"renderers\":[{\"id\":\"03daaeb2-5c96-4732-993a-d6f965bd62ce\",\"type\":\"CategoricalAxis\"},{\"id\":\"a510295e-53c3-4306-a937-40f5e83281ec\",\"type\":\"Grid\"},{\"id\":\"6681ee0f-49b8-440b-bdf3-3b77926b605b\",\"type\":\"LinearAxis\"},{\"id\":\"897774d4-2a24-4fa8-b0c6-4ff7048f7892\",\"type\":\"Grid\"},{\"id\":\"396c8921-3816-4b5c-bc3d-6bdb809be3c5\",\"type\":\"GlyphRenderer\"}],\"title\":null,\"tool_events\":{\"id\":\"f4498de5-5c25-4dd7-8914-ba25bd1ee182\",\"type\":\"ToolEvents\"},\"toolbar\":{\"id\":\"79d12407-8c38-4f82-aea6-9454b9313caa\",\"type\":\"Toolbar\"},\"x_range\":{\"id\":\"710cd49e-4c10-400d-8461-24f43febd28a\",\"type\":\"FactorRange\"},\"y_range\":{\"id\":\"eb7d0447-9959-44ea-ae84-c1a95f636fa2\",\"type\":\"DataRange1d\"}},\"id\":\"f9909016-6488-4f8a-8e41-57fc7a5fdc3d\",\"subtype\":\"Figure\",\"type\":\"Plot\"},{\"attributes\":{\"dimension\":1,\"plot\":{\"id\":\"f9909016-6488-4f8a-8e41-57fc7a5fdc3d\",\"subtype\":\"Figure\",\"type\":\"Plot\"},\"ticker\":{\"id\":\"173ca956-3603-4264-8770-211af40215a7\",\"type\":\"BasicTicker\"}},\"id\":\"897774d4-2a24-4fa8-b0c6-4ff7048f7892\",\"type\":\"Grid\"},{\"attributes\":{\"callback\":null,\"factors\":[\"MALE\",\"FEMALE\"]},\"id\":\"710cd49e-4c10-400d-8461-24f43febd28a\",\"type\":\"FactorRange\"},{\"attributes\":{},\"id\":\"22358cb9-c866-455b-9f98-fdf8dcd9f946\",\"type\":\"CategoricalTicker\"},{\"attributes\":{},\"id\":\"f4498de5-5c25-4dd7-8914-ba25bd1ee182\",\"type\":\"ToolEvents\"},{\"attributes\":{\"data_source\":{\"id\":\"0d4c8210-2aab-433e-981e-5e96952fc6da\",\"type\":\"ColumnDataSource\"},\"glyph\":{\"id\":\"96502f10-e473-4dcb-a750-8caf4d2320bb\",\"type\":\"VBar\"},\"hover_glyph\":null,\"muted_glyph\":null},\"id\":\"396c8921-3816-4b5c-bc3d-6bdb809be3c5\",\"type\":\"GlyphRenderer\"},{\"attributes\":{\"fill_color\":{\"value\":\"#3AC0C3\"},\"top\":{\"field\":\"top\"},\"width\":{\"value\":0.2},\"x\":{\"field\":\"x\"}},\"id\":\"96502f10-e473-4dcb-a750-8caf4d2320bb\",\"type\":\"VBar\"},{\"attributes\":{\"active_drag\":\"auto\",\"active_scroll\":\"auto\",\"active_tap\":\"auto\",\"tools\":[{\"id\":\"cc896c5d-873b-4793-b833-0c146b22c7d5\",\"type\":\"HoverTool\"},{\"id\":\"d07ad127-fa6a-4950-a3ed-7a72ac808988\",\"type\":\"WheelZoomTool\"},{\"id\":\"72f2ca63-27d5-4cbf-9376-8528bbed7275\",\"type\":\"PanTool\"}]},\"id\":\"79d12407-8c38-4f82-aea6-9454b9313caa\",\"type\":\"Toolbar\"},{\"attributes\":{},\"id\":\"173ca956-3603-4264-8770-211af40215a7\",\"type\":\"BasicTicker\"},{\"attributes\":{\"callback\":null,\"column_names\":[\"x\",\"top\"],\"data\":{\"top\":[189838,201755],\"x\":[\"MALE\",\"FEMALE\"]}},\"id\":\"0d4c8210-2aab-433e-981e-5e96952fc6da\",\"type\":\"ColumnDataSource\"},{\"attributes\":{\"callback\":null},\"id\":\"eb7d0447-9959-44ea-ae84-c1a95f636fa2\",\"type\":\"DataRange1d\"},{\"attributes\":{\"callback\":null,\"plot\":{\"id\":\"f9909016-6488-4f8a-8e41-57fc7a5fdc3d\",\"subtype\":\"Figure\",\"type\":\"Plot\"}},\"id\":\"cc896c5d-873b-4793-b833-0c146b22c7d5\",\"type\":\"HoverTool\"},{\"attributes\":{},\"id\":\"ffcb93a1-4eea-41f5-af8a-c49fdb721442\",\"type\":\"CategoricalTickFormatter\"},{\"attributes\":{\"plot\":{\"id\":\"f9909016-6488-4f8a-8e41-57fc7a5fdc3d\",\"subtype\":\"Figure\",\"type\":\"Plot\"}},\"id\":\"d07ad127-fa6a-4950-a3ed-7a72ac808988\",\"type\":\"WheelZoomTool\"}],\"root_ids\":[\"f9909016-6488-4f8a-8e41-57fc7a5fdc3d\"]},\"title\":\"Bokeh Application\",\"version\":\"0.12.5\"}};\n",
       "            var render_items = [{\"docid\":\"ccc99caa-2538-4e63-b31a-2c8f30cce318\",\"elementid\":\"7bc3c093-f2cc-4980-93f3-fdb36c450dff\",\"modelid\":\"f9909016-6488-4f8a-8e41-57fc7a5fdc3d\",\"notebook_comms_target\":\"534d877f-2072-4551-928a-5403f95f3703\"}];\n",
       "            \n",
       "            Bokeh.embed.embed_items(docs_json, render_items);\n",
       "          };\n",
       "          if (document.readyState != \"loading\") fn();\n",
       "          else document.addEventListener(\"DOMContentLoaded\", fn);\n",
       "        })();\n",
       "      },\n",
       "      function(Bokeh) {\n",
       "      }\n",
       "    ];\n",
       "  \n",
       "    function run_inline_js() {\n",
       "      \n",
       "      if ((window.Bokeh !== undefined) || (force === true)) {\n",
       "        for (var i = 0; i < inline_js.length; i++) {\n",
       "          inline_js[i](window.Bokeh);\n",
       "        }if (force === true) {\n",
       "          display_loaded();\n",
       "        }} else if (Date.now() < window._bokeh_timeout) {\n",
       "        setTimeout(run_inline_js, 100);\n",
       "      } else if (!window._bokeh_failed_load) {\n",
       "        console.log(\"Bokeh: BokehJS failed to load within specified timeout.\");\n",
       "        window._bokeh_failed_load = true;\n",
       "      } else if (force !== true) {\n",
       "        var cell = $(document.getElementById(\"7bc3c093-f2cc-4980-93f3-fdb36c450dff\")).parents('.cell').data().cell;\n",
       "        cell.output_area.append_execute_result(NB_LOAD_WARNING)\n",
       "      }\n",
       "  \n",
       "    }\n",
       "  \n",
       "    if (window._bokeh_is_loading === 0) {\n",
       "      console.log(\"Bokeh: BokehJS loaded, going straight to plotting\");\n",
       "      run_inline_js();\n",
       "    } else {\n",
       "      load_libs(js_urls, function() {\n",
       "        console.log(\"Bokeh: BokehJS plotting callback run at\", now());\n",
       "        run_inline_js();\n",
       "      });\n",
       "    }\n",
       "  }(this));\n",
       "</script>"
      ]
     },
     "metadata": {},
     "output_type": "display_data"
    }
   ],
   "source": [
    "createSecondCell()"
   ]
  },
  {
   "cell_type": "code",
   "execution_count": 4,
   "metadata": {
    "scrolled": false
   },
   "outputs": [],
   "source": [
    "#createThirdCell()"
   ]
  },
  {
   "cell_type": "code",
   "execution_count": 5,
   "metadata": {
    "scrolled": false
   },
   "outputs": [],
   "source": [
    "#createFourthCell()"
   ]
  },
  {
   "cell_type": "code",
   "execution_count": null,
   "metadata": {
    "collapsed": true
   },
   "outputs": [],
   "source": []
  },
  {
   "cell_type": "code",
   "execution_count": null,
   "metadata": {
    "collapsed": true
   },
   "outputs": [],
   "source": []
  },
  {
   "cell_type": "code",
   "execution_count": 6,
   "metadata": {
    "collapsed": true
   },
   "outputs": [],
   "source": [
    "#swbd = dataFrame[dataFrame['label'] == 'SWBD']"
   ]
  },
  {
   "cell_type": "code",
   "execution_count": 7,
   "metadata": {},
   "outputs": [
    {
     "name": "stdout",
     "output_type": "stream",
     "text": [
      "[ 0.4536277   0.27833961]\n"
     ]
    }
   ],
   "source": [
    "df, pca = pca(dataFrame)"
   ]
  },
  {
   "cell_type": "code",
   "execution_count": 8,
   "metadata": {},
   "outputs": [
    {
     "data": {
      "image/png": "[encoded data removed]",
      "text/plain": [
       "<matplotlib.figure.Figure at 0x10b9c4e0>"
      ]
     },
     "metadata": {},
     "output_type": "display_data"
    },
    {
     "name": "stdout",
     "output_type": "stream",
     "text": [
      "salt\n"
     ]
    }
   ],
   "source": [
    "displayPlot(df)\n",
    "print(\"salt\")"
   ]
  },
  {
   "cell_type": "code",
   "execution_count": null,
   "metadata": {
    "scrolled": true
   },
   "outputs": [],
   "source": []
  }
 ],
 "metadata": {
  "kernelspec": {
   "display_name": "Python 2",
   "language": "python",
   "name": "python2"
  },
  "language_info": {
   "codemirror_mode": {
    "name": "ipython",
    "version": 2
   },
   "file_extension": ".py",
   "mimetype": "text/x-python",
   "name": "python",
   "nbconvert_exporter": "python",
   "pygments_lexer": "ipython2",
   "version": "2.7.13"
  },
  "widgets": {
   "application/vnd.jupyter.widget-state+json": {
    "state": {},
    "version_major": 2,
    "version_minor": 0
   }
  }
 },
 "nbformat": 4,
 "nbformat_minor": 2
}
